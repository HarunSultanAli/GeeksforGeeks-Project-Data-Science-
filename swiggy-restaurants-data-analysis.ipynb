{
 "cells": [
  {
   "cell_type": "code",
   "execution_count": 1,
   "id": "3776c17c",
   "metadata": {
    "execution": {
     "iopub.execute_input": "2023-08-07T15:10:29.456887Z",
     "iopub.status.busy": "2023-08-07T15:10:29.456319Z",
     "iopub.status.idle": "2023-08-07T15:10:32.080544Z",
     "shell.execute_reply": "2023-08-07T15:10:32.079001Z"
    },
    "papermill": {
     "duration": 2.647546,
     "end_time": "2023-08-07T15:10:32.084450",
     "exception": false,
     "start_time": "2023-08-07T15:10:29.436904",
     "status": "completed"
    },
    "tags": []
   },
   "outputs": [
    {
     "name": "stderr",
     "output_type": "stream",
     "text": [
      "/opt/conda/lib/python3.10/site-packages/scipy/__init__.py:146: UserWarning: A NumPy version >=1.16.5 and <1.23.0 is required for this version of SciPy (detected version 1.23.5\n",
      "  warnings.warn(f\"A NumPy version >={np_minversion} and <{np_maxversion}\"\n"
     ]
    }
   ],
   "source": [
    "import numpy as np \n",
    "import pandas as pd \n",
    "import json\n",
    "\n",
    "import matplotlib.pyplot as plt\n",
    "import seaborn as sns\n",
    "import plotly.express as px\n",
    "import plotly.offline as pyo"
   ]
  },
  {
   "cell_type": "code",
   "execution_count": 2,
   "id": "84637007",
   "metadata": {
    "execution": {
     "iopub.execute_input": "2023-08-07T15:10:32.129449Z",
     "iopub.status.busy": "2023-08-07T15:10:32.128744Z",
     "iopub.status.idle": "2023-08-07T15:10:32.133582Z",
     "shell.execute_reply": "2023-08-07T15:10:32.132641Z"
    },
    "papermill": {
     "duration": 0.029511,
     "end_time": "2023-08-07T15:10:32.136292",
     "exception": false,
     "start_time": "2023-08-07T15:10:32.106781",
     "status": "completed"
    },
    "tags": []
   },
   "outputs": [],
   "source": [
    "# data = pd.read_json(\"/kaggle/input/swiggydataset/data.json\")"
   ]
  },
  {
   "cell_type": "code",
   "execution_count": 3,
   "id": "414351cc",
   "metadata": {
    "execution": {
     "iopub.execute_input": "2023-08-07T15:10:32.173207Z",
     "iopub.status.busy": "2023-08-07T15:10:32.172465Z",
     "iopub.status.idle": "2023-08-07T15:11:17.788888Z",
     "shell.execute_reply": "2023-08-07T15:11:17.787508Z"
    },
    "papermill": {
     "duration": 45.638173,
     "end_time": "2023-08-07T15:11:17.792125",
     "exception": false,
     "start_time": "2023-08-07T15:10:32.153952",
     "status": "completed"
    },
    "tags": []
   },
   "outputs": [],
   "source": [
    "json_file_path = '/kaggle/input/swiggydataset/data.json'  # Replace with the actual path to your JSON file\n",
    "\n",
    "# Opening JSON file\n",
    "f = open('/kaggle/input/swiggydataset/data.json')\n",
    "#f = open('Swiggy/data.json')\n",
    "\n",
    "\n",
    "# returns JSON object as a dictionary\n",
    "data = json.load(f)\n",
    "\n",
    "#print(data.keys())\n",
    "\n",
    "f.close()\n"
   ]
  },
  {
   "cell_type": "code",
   "execution_count": 4,
   "id": "665cbc05",
   "metadata": {
    "execution": {
     "iopub.execute_input": "2023-08-07T15:11:17.829771Z",
     "iopub.status.busy": "2023-08-07T15:11:17.829349Z",
     "iopub.status.idle": "2023-08-07T15:11:17.839256Z",
     "shell.execute_reply": "2023-08-07T15:11:17.837825Z"
    },
    "papermill": {
     "duration": 0.031356,
     "end_time": "2023-08-07T15:11:17.841953",
     "exception": false,
     "start_time": "2023-08-07T15:11:17.810597",
     "status": "completed"
    },
    "tags": []
   },
   "outputs": [
    {
     "data": {
      "text/plain": [
       "dict"
      ]
     },
     "execution_count": 4,
     "metadata": {},
     "output_type": "execute_result"
    }
   ],
   "source": [
    "type(data)"
   ]
  },
  {
   "cell_type": "code",
   "execution_count": 5,
   "id": "6db8f124",
   "metadata": {
    "execution": {
     "iopub.execute_input": "2023-08-07T15:11:17.882438Z",
     "iopub.status.busy": "2023-08-07T15:11:17.881375Z",
     "iopub.status.idle": "2023-08-07T15:11:17.888931Z",
     "shell.execute_reply": "2023-08-07T15:11:17.887498Z"
    },
    "papermill": {
     "duration": 0.029559,
     "end_time": "2023-08-07T15:11:17.891441",
     "exception": false,
     "start_time": "2023-08-07T15:11:17.861882",
     "status": "completed"
    },
    "tags": []
   },
   "outputs": [
    {
     "data": {
      "text/plain": [
       "623"
      ]
     },
     "execution_count": 5,
     "metadata": {},
     "output_type": "execute_result"
    }
   ],
   "source": [
    "Cities = list(data.keys())\n",
    "len(Cities)"
   ]
  },
  {
   "cell_type": "code",
   "execution_count": 6,
   "id": "e36fee3d",
   "metadata": {
    "execution": {
     "iopub.execute_input": "2023-08-07T15:11:17.929451Z",
     "iopub.status.busy": "2023-08-07T15:11:17.928812Z",
     "iopub.status.idle": "2023-08-07T15:11:17.934048Z",
     "shell.execute_reply": "2023-08-07T15:11:17.933265Z"
    },
    "papermill": {
     "duration": 0.027652,
     "end_time": "2023-08-07T15:11:17.936650",
     "exception": false,
     "start_time": "2023-08-07T15:11:17.908998",
     "status": "completed"
    },
    "tags": []
   },
   "outputs": [
    {
     "name": "stdout",
     "output_type": "stream",
     "text": [
      "City Name : Patna\n",
      "Link : https://www.swiggy.com/city/patna\n"
     ]
    }
   ],
   "source": [
    "c = Cities[453]\n",
    "print('City Name :',c)\n",
    "print('Link :',data[c]['link'])"
   ]
  },
  {
   "cell_type": "code",
   "execution_count": 7,
   "id": "dddbcc9c",
   "metadata": {
    "execution": {
     "iopub.execute_input": "2023-08-07T15:11:17.975563Z",
     "iopub.status.busy": "2023-08-07T15:11:17.975112Z",
     "iopub.status.idle": "2023-08-07T15:11:17.982213Z",
     "shell.execute_reply": "2023-08-07T15:11:17.980976Z"
    },
    "papermill": {
     "duration": 0.030331,
     "end_time": "2023-08-07T15:11:17.985039",
     "exception": false,
     "start_time": "2023-08-07T15:11:17.954708",
     "status": "completed"
    },
    "tags": []
   },
   "outputs": [
    {
     "name": "stdout",
     "output_type": "stream",
     "text": [
      "First Restaurant id: 254859\n"
     ]
    }
   ],
   "source": [
    "id = list(data[c]['restaurants'].keys())\n",
    "print('First Restaurant id:',id[0])"
   ]
  },
  {
   "cell_type": "code",
   "execution_count": 8,
   "id": "7bfff791",
   "metadata": {
    "execution": {
     "iopub.execute_input": "2023-08-07T15:11:18.025562Z",
     "iopub.status.busy": "2023-08-07T15:11:18.024684Z",
     "iopub.status.idle": "2023-08-07T15:11:18.034218Z",
     "shell.execute_reply": "2023-08-07T15:11:18.033099Z"
    },
    "papermill": {
     "duration": 0.033959,
     "end_time": "2023-08-07T15:11:18.036795",
     "exception": false,
     "start_time": "2023-08-07T15:11:18.002836",
     "status": "completed"
    },
    "tags": []
   },
   "outputs": [
    {
     "name": "stdout",
     "output_type": "stream",
     "text": [
      "First Restaurant Name          : Biryani By Kilo\n",
      "First Restaurant Rating        : 4.1\n",
      "First Restaurant Rating_Counts : 500+ ratings\n",
      "First Restaurant Cost          : ₹ 700\n",
      "First Restaurant Address       : Biryani By Kilo, Commercial First Floor, 21, Patliputra Colony, Opp. UNICEF OFFICE, Patna- 800013, Bihar\n",
      "First Restaurant Cuisine       : Biryani,Mughlai\n",
      "First Restaurant License No.   : 10420000000041\n"
     ]
    }
   ],
   "source": [
    "print('First Restaurant Name          :', data[c]['restaurants'][id[0]]['name'])\n",
    "print('First Restaurant Rating        :', data[c]['restaurants'][id[0]]['rating'])\n",
    "print('First Restaurant Rating_Counts :', data[c]['restaurants'][id[0]]['rating_count'])\n",
    "print('First Restaurant Cost          :', data[c]['restaurants'][id[0]]['cost'])\n",
    "print('First Restaurant Address       :', data[c]['restaurants'][id[0]]['address'])\n",
    "print('First Restaurant Cuisine       :', data[c]['restaurants'][id[0]]['cuisine'])\n",
    "print('First Restaurant License No.   :', data[c]['restaurants'][id[0]]['lic_no'])"
   ]
  },
  {
   "cell_type": "code",
   "execution_count": 9,
   "id": "be467424",
   "metadata": {
    "execution": {
     "iopub.execute_input": "2023-08-07T15:11:18.074091Z",
     "iopub.status.busy": "2023-08-07T15:11:18.073610Z",
     "iopub.status.idle": "2023-08-07T15:11:18.082156Z",
     "shell.execute_reply": "2023-08-07T15:11:18.080398Z"
    },
    "papermill": {
     "duration": 0.030813,
     "end_time": "2023-08-07T15:11:18.085135",
     "exception": false,
     "start_time": "2023-08-07T15:11:18.054322",
     "status": "completed"
    },
    "tags": []
   },
   "outputs": [
    {
     "name": "stdout",
     "output_type": "stream",
     "text": [
      "********************************************* Biryani By Kilo , Patna - Menu *********************************************\n"
     ]
    }
   ],
   "source": [
    "Menu = list(data[c]['restaurants'][id[0]]['menu'].keys())\n",
    "print('*'*45,data[c]['restaurants'][id[0]]['name'],',',c,'- Menu','*'*45)"
   ]
  },
  {
   "cell_type": "code",
   "execution_count": 10,
   "id": "99e17c45",
   "metadata": {
    "execution": {
     "iopub.execute_input": "2023-08-07T15:11:18.123321Z",
     "iopub.status.busy": "2023-08-07T15:11:18.122453Z",
     "iopub.status.idle": "2023-08-07T15:11:18.133562Z",
     "shell.execute_reply": "2023-08-07T15:11:18.132293Z"
    },
    "papermill": {
     "duration": 0.033936,
     "end_time": "2023-08-07T15:11:18.136563",
     "exception": false,
     "start_time": "2023-08-07T15:11:18.102627",
     "status": "completed"
    },
    "tags": []
   },
   "outputs": [
    {
     "name": "stdout",
     "output_type": "stream",
     "text": [
      "Recommended\n",
      "Peshawari Chole Biryani [1/2 Kg] Serves 1-2 >>> Price : 370 | veg_or_non_veg : Veg\n",
      "Chicken Hyderabadi Dum Biryani [1/2 Kg] Serves 1-2 >>> Price : 485 | veg_or_non_veg : Non-veg\n",
      "Chicken Boneless Dum Biryani [1/2 Kg] Serves 1-2 >>> Price : 545 | veg_or_non_veg : Non-veg\n",
      "Malamaal Murg Dum Biryani [1/2 Kg] Serves 1-2 >>> Price : 625 | veg_or_non_veg : Non-veg\n",
      "Mutton Hyderabadi Dum Biryani [1/2 Kg] Serves 1-2 >>> Price : 665 | veg_or_non_veg : Non-veg\n",
      "Kolkata Chicken Biryani - [1Kg] Serves 2-3 >>> Price : 775 | veg_or_non_veg : Non-veg\n",
      "----------------------------------------------------------------------------------------------------\n",
      "Newly Launched\n",
      "Prawns 65 Biryani (1/2 Kg) >>> Price : 595 | veg_or_non_veg : Non-veg\n",
      "Fish Biryani (1/2 Kg) >>> Price : 585 | veg_or_non_veg : Non-veg\n",
      "Prawns 65 (8 Pcs) >>> Price : 425 | veg_or_non_veg : Non-veg\n",
      "----------------------------------------------------------------------------------------------------\n",
      "Single Serves\n",
      "Veg Hyderabadi Biryani - Single Portion >>> Price : 220 | veg_or_non_veg : Veg\n",
      "Chicken Lucknowi Biryani - Single Portion >>> Price : 255 | veg_or_non_veg : Non-veg\n",
      "Chicken Hyderabadi Boneless Biryani - Single Portion >>> Price : 260 | veg_or_non_veg : Non-veg\n",
      "----------------------------------------------------------------------------------------------------\n",
      "Hyderabadi Biryani\n",
      "Peshawari Chole Biryani [1/2 Kg] Serves 1-2 >>> Price : 370 | veg_or_non_veg : Veg\n",
      "Chicken Hyderabadi Dum Biryani [1/2 Kg] Serves 1-2 >>> Price : 485 | veg_or_non_veg : Non-veg\n",
      "Chicken Hyderabadi Dum Biryani -[1 Kg] Serves 2-3 >>> Price : 795 | veg_or_non_veg : Non-veg\n",
      "Chicken Boneless Dum Biryani [1/2 Kg] Serves 1-2 >>> Price : 545 | veg_or_non_veg : Non-veg\n",
      "Malamaal Murg Dum Biryani [1/2 Kg] Serves 1-2 >>> Price : 625 | veg_or_non_veg : Non-veg\n",
      "Mutton Hyderabadi Dum Biryani [1/2 Kg] Serves 1-2 >>> Price : 665 | veg_or_non_veg : Non-veg\n",
      "Rara Mutton Biryani [1/2kg] Serves 1-2 >>> Price : 665 | veg_or_non_veg : Non-veg\n",
      "----------------------------------------------------------------------------------------------------\n",
      "Lucknowi Biryani\n",
      "Chicken Lucknowi Biryani [1/2Kg] Serves 1-2 >>> Price : 485 | veg_or_non_veg : Non-veg\n",
      "Chicken Lucknowi Biryani -[1 Kg] Serves 2-3 >>> Price : 795 | veg_or_non_veg : Non-veg\n",
      "Mutton Lucknowi Biryani [1/2 Kg] Serves 1-2 >>> Price : 665 | veg_or_non_veg : Non-veg\n",
      "----------------------------------------------------------------------------------------------------\n",
      "Kolkata Biryani\n",
      "Kolkata Chicken Biryani - [1Kg] Serves 2-3 >>> Price : 775 | veg_or_non_veg : Non-veg\n",
      "Kolkata Mutton Biryani - [1Kg] Serves 2-3 >>> Price : 895 | veg_or_non_veg : Non-veg\n",
      "----------------------------------------------------------------------------------------------------\n",
      "Kebabs\n",
      "Mutton Galouti (4pcs) >>> Price : 325 | veg_or_non_veg : Non-veg\n",
      "Veg Galouti (4pcs) >>> Price : 165 | veg_or_non_veg : Veg\n",
      "Paneer 65 (10pcs) >>> Price : 215 | veg_or_non_veg : Veg\n",
      "Chicken Ghee Roast (5pcs) >>> Price : 225 | veg_or_non_veg : Non-veg\n",
      "Chicken Seekh Kebab (8pcs) >>> Price : 225 | veg_or_non_veg : Non-veg\n",
      "----------------------------------------------------------------------------------------------------\n",
      "Korma & Curries\n",
      "Chicken Korma - 250 gms >>> Price : 275 | veg_or_non_veg : Non-veg\n",
      "Paneer Nawabi - 250 gms >>> Price : 255 | veg_or_non_veg : Veg\n",
      "Dum Nihari Gosht [350gms] >>> Price : 395 | veg_or_non_veg : Non-veg\n",
      "----------------------------------------------------------------------------------------------------\n",
      "Platter\n",
      "Veg Platter >>> Price : 569 | veg_or_non_veg : Veg\n",
      "Non Veg Platter >>> Price : 729 | veg_or_non_veg : Non-veg\n",
      "----------------------------------------------------------------------------------------------------\n",
      "Celebration Combos (Save Upto 31%)\n",
      "Veg Celebration Combo >>> Price : 1499 | veg_or_non_veg : Veg\n",
      "Chicken Celebration Combo >>> Price : 1899 | veg_or_non_veg : Non-veg\n",
      "----------------------------------------------------------------------------------------------------\n",
      "Desserts & Beverages\n",
      "Imli Adraki Lemonade >>> Price : 75 | veg_or_non_veg : Veg\n",
      "Gulab Jamun with Rabri >>> Price : 165 | veg_or_non_veg : Veg\n",
      "Pepsi (500ml) >>> Price : 55 | veg_or_non_veg : Veg\n",
      "Matka Phirni [1/2 Kg] >>> Price : 295 | veg_or_non_veg : Veg\n",
      "Masala Shikanji >>> Price : 90.50 | veg_or_non_veg : Veg\n",
      "----------------------------------------------------------------------------------------------------\n",
      "Breads & Extras\n",
      "Rumali Roti >>> Price : 40 | veg_or_non_veg : Veg\n",
      "Raita >>> Price : 60 | veg_or_non_veg : Veg\n",
      "Ulte Tawa Ka Parantha >>> Price : 65 | veg_or_non_veg : Veg\n",
      "Masala Curry >>> Price : 70 | veg_or_non_veg : Veg\n",
      "----------------------------------------------------------------------------------------------------\n"
     ]
    }
   ],
   "source": [
    "for item in Menu:\n",
    "    print(item)\n",
    "    Sub_menu = list(data[c]['restaurants'][id[0]]['menu'][item].keys())\n",
    "    for sub_item in Sub_menu :\n",
    "        print(sub_item,'>>> Price :',data[c]['restaurants'][id[0]]['menu'][item][sub_item]['price'], end =' | ')\n",
    "        print('veg_or_non_veg :',data[c]['restaurants'][id[0]]['menu'][item][sub_item]['veg_or_non_veg'])\n",
    "    print('-'*100)"
   ]
  },
  {
   "cell_type": "code",
   "execution_count": 11,
   "id": "e36bb895",
   "metadata": {
    "execution": {
     "iopub.execute_input": "2023-08-07T15:11:18.175404Z",
     "iopub.status.busy": "2023-08-07T15:11:18.174571Z",
     "iopub.status.idle": "2023-08-07T15:11:18.181720Z",
     "shell.execute_reply": "2023-08-07T15:11:18.180159Z"
    },
    "papermill": {
     "duration": 0.02992,
     "end_time": "2023-08-07T15:11:18.184485",
     "exception": false,
     "start_time": "2023-08-07T15:11:18.154565",
     "status": "completed"
    },
    "tags": []
   },
   "outputs": [
    {
     "name": "stdout",
     "output_type": "stream",
     "text": [
      "First Restaurant Link: https://www.swiggy.com/restaurants/biryani-by-kilo-patliputra-colony-patna-254859\n"
     ]
    }
   ],
   "source": [
    "print('First Restaurant Link:',data[c]['restaurants'][id[0]]['link'])"
   ]
  },
  {
   "cell_type": "code",
   "execution_count": 12,
   "id": "1b8dace9",
   "metadata": {
    "execution": {
     "iopub.execute_input": "2023-08-07T15:11:18.224113Z",
     "iopub.status.busy": "2023-08-07T15:11:18.223721Z",
     "iopub.status.idle": "2023-08-07T15:11:18.232356Z",
     "shell.execute_reply": "2023-08-07T15:11:18.231000Z"
    },
    "papermill": {
     "duration": 0.032669,
     "end_time": "2023-08-07T15:11:18.234836",
     "exception": false,
     "start_time": "2023-08-07T15:11:18.202167",
     "status": "completed"
    },
    "tags": []
   },
   "outputs": [],
   "source": [
    "Data = pd.DataFrame() "
   ]
  },
  {
   "cell_type": "code",
   "execution_count": 13,
   "id": "c761c82b",
   "metadata": {
    "execution": {
     "iopub.execute_input": "2023-08-07T15:11:18.273579Z",
     "iopub.status.busy": "2023-08-07T15:11:18.273063Z",
     "iopub.status.idle": "2023-08-07T15:12:24.735386Z",
     "shell.execute_reply": "2023-08-07T15:12:24.733960Z"
    },
    "papermill": {
     "duration": 66.486938,
     "end_time": "2023-08-07T15:12:24.740317",
     "exception": false,
     "start_time": "2023-08-07T15:11:18.253379",
     "status": "completed"
    },
    "tags": []
   },
   "outputs": [],
   "source": [
    "for city in Cities:\n",
    "    try:\n",
    "        # Convert the city-wise restaurant data to pandas Dataframe\n",
    "        DF = pd.DataFrame(data[city]['restaurants']).T\n",
    "\n",
    "        # add City column for each restaurants in that city\n",
    "        City = [city for i in range(DF.shape[0])]\n",
    "        DF['City'] = City\n",
    "\n",
    "        # Because no sub-region so considering city as sub-region\n",
    "        SubRegion = City\n",
    "        DF['SubRegion'] = SubRegion\n",
    "\n",
    "        # Concatenate to main Dataframe\n",
    "        Data = pd.concat([Data,DF])\n",
    "\n",
    "    except:\n",
    "\n",
    "        Subregions = list(data[city].keys())\n",
    "        for region in Subregions:\n",
    "\n",
    "            # Convert the city-wise restaurant data to pandas Dataframe\n",
    "            DF = pd.DataFrame(data[city][region]['restaurants']).T\n",
    "\n",
    "            # City\n",
    "            City = [city for i in range(DF.shape[0])]\n",
    "            # Add City column for each restaurants in that city\n",
    "            DF['City'] = City\n",
    "\n",
    "            # Sub-region\n",
    "            SubRegion = [region for i in range(DF.shape[0])]\n",
    "\n",
    "            # add sub-region column for each restaurants in that city\n",
    "            DF['SubRegion'] = SubRegion\n",
    "            Data = pd.concat([Data,DF])"
   ]
  },
  {
   "cell_type": "code",
   "execution_count": 14,
   "id": "2fa85d28",
   "metadata": {
    "execution": {
     "iopub.execute_input": "2023-08-07T15:12:24.781701Z",
     "iopub.status.busy": "2023-08-07T15:12:24.780608Z",
     "iopub.status.idle": "2023-08-07T15:12:24.789311Z",
     "shell.execute_reply": "2023-08-07T15:12:24.787917Z"
    },
    "papermill": {
     "duration": 0.03183,
     "end_time": "2023-08-07T15:12:24.792288",
     "exception": false,
     "start_time": "2023-08-07T15:12:24.760458",
     "status": "completed"
    },
    "tags": []
   },
   "outputs": [
    {
     "data": {
      "text/plain": [
       "(181404, 13)"
      ]
     },
     "execution_count": 14,
     "metadata": {},
     "output_type": "execute_result"
    }
   ],
   "source": [
    "Data.shape"
   ]
  },
  {
   "cell_type": "code",
   "execution_count": 15,
   "id": "60e82710",
   "metadata": {
    "execution": {
     "iopub.execute_input": "2023-08-07T15:12:24.832963Z",
     "iopub.status.busy": "2023-08-07T15:12:24.832558Z",
     "iopub.status.idle": "2023-08-07T15:12:24.856161Z",
     "shell.execute_reply": "2023-08-07T15:12:24.854628Z"
    },
    "papermill": {
     "duration": 0.047477,
     "end_time": "2023-08-07T15:12:24.858975",
     "exception": false,
     "start_time": "2023-08-07T15:12:24.811498",
     "status": "completed"
    },
    "tags": []
   },
   "outputs": [
    {
     "name": "stdout",
     "output_type": "stream",
     "text": [
      "*********************************** Food Decker , Koramangala Bangalore - Menu ***********************************\n",
      "Pasta\n",
      "Fried Chicken Maggi >>> Price : 100 | veg_or_non_veg : Non-veg\n",
      "Fried Veg Maggi >>> Price : 80 | veg_or_non_veg : Veg\n",
      "Egg Maggi >>> Price : 80 | veg_or_non_veg : Non-veg\n",
      "Veg Maggi >>> Price : 60 | veg_or_non_veg : Veg\n",
      "----------------------------------------------------------------------------------------------------\n",
      "Sandwiches\n",
      "Chicken Fried Sandwich >>> Price : 150 | veg_or_non_veg : Non-veg\n",
      "Chicken Sandwich >>> Price : 100 | veg_or_non_veg : Non-veg\n",
      "Bread Butter Cheese >>> Price : 60 | veg_or_non_veg : Veg\n",
      "Aloo Cheese Sandwich >>> Price : 100 | veg_or_non_veg : Veg\n",
      "Veg  Cheese Grill Sandwich >>> Price : 100 | veg_or_non_veg : Veg\n",
      "Veg Sandwich >>> Price : 80 | veg_or_non_veg : Veg\n",
      "----------------------------------------------------------------------------------------------------\n",
      "Rolls\n",
      "Chowmein Roll >>> Price : 100 | veg_or_non_veg : Veg\n",
      "Malai Tikka Roll >>> Price : 120 | veg_or_non_veg : Veg\n",
      "Aloo Roll >>> Price : 80 | veg_or_non_veg : Veg\n",
      "Roll Paneer >>> Price : 70 | veg_or_non_veg : Veg\n",
      "Veg Loaded Roll >>> Price : 100 | veg_or_non_veg : Veg\n",
      "Veg Roll >>> Price : 80 | veg_or_non_veg : Veg\n",
      "Paneer & Egg Roll >>> Price : 90 | veg_or_non_veg : Non-veg\n",
      "Double Egg Roll >>> Price : 120 | veg_or_non_veg : Non-veg\n",
      "Egg Roll >>> Price : 80 | veg_or_non_veg : Non-veg\n",
      "----------------------------------------------------------------------------------------------------\n",
      "Milkshakes\n",
      "Dark Chocolate Milkshake >>> Price : 140 | veg_or_non_veg : Veg\n",
      "Vanilla Chocolate Milkshake >>> Price : 110 | veg_or_non_veg : Veg\n",
      "Cold Coffee >>> Price : 90 | veg_or_non_veg : Veg\n",
      "Food Decker Milkshake >>> Price : 120 | veg_or_non_veg : Veg\n",
      "Black Current Milkshake >>> Price : 110 | veg_or_non_veg : Veg\n",
      "Oreo Milkshake >>> Price : 110 | veg_or_non_veg : Veg\n",
      "Choco Milkshakes >>> Price : 110 | veg_or_non_veg : Veg\n",
      "Dates Milkshakes >>> Price : 110 | veg_or_non_veg : Veg\n",
      "----------------------------------------------------------------------------------------------------\n"
     ]
    }
   ],
   "source": [
    "def Menu(Data, i):\n",
    "    Menu = list(Data.menu[i].keys())\n",
    "    print('*'*35,Data['name'][i],',',Data['SubRegion'][i],Data['City'][i],'- Menu','*'*35)\n",
    "\n",
    "    for item in Menu:\n",
    "        print(item)\n",
    "        Sub_menu = list(Data.menu[i][item].keys())\n",
    "        for sub_item in Sub_menu :\n",
    "            print(sub_item,'>>> Price :',Data.menu[i][item][sub_item]['price'], end =' | ')\n",
    "            print('veg_or_non_veg :',Data.menu[i][item][sub_item]['veg_or_non_veg'])\n",
    "        print('-'*100)\n",
    "\n",
    "Menu(Data, 11223)"
   ]
  },
  {
   "cell_type": "code",
   "execution_count": 16,
   "id": "35c6d0ba",
   "metadata": {
    "execution": {
     "iopub.execute_input": "2023-08-07T15:12:24.898227Z",
     "iopub.status.busy": "2023-08-07T15:12:24.897833Z",
     "iopub.status.idle": "2023-08-07T15:13:36.347799Z",
     "shell.execute_reply": "2023-08-07T15:13:36.346463Z"
    },
    "papermill": {
     "duration": 71.473639,
     "end_time": "2023-08-07T15:13:36.351173",
     "exception": false,
     "start_time": "2023-08-07T15:12:24.877534",
     "status": "completed"
    },
    "tags": []
   },
   "outputs": [],
   "source": [
    "Data.to_csv('Swiggy_data.csv')"
   ]
  },
  {
   "cell_type": "code",
   "execution_count": 17,
   "id": "7eea7934",
   "metadata": {
    "execution": {
     "iopub.execute_input": "2023-08-07T15:13:36.390587Z",
     "iopub.status.busy": "2023-08-07T15:13:36.390155Z",
     "iopub.status.idle": "2023-08-07T15:13:48.667532Z",
     "shell.execute_reply": "2023-08-07T15:13:48.666087Z"
    },
    "papermill": {
     "duration": 12.300838,
     "end_time": "2023-08-07T15:13:48.670762",
     "exception": false,
     "start_time": "2023-08-07T15:13:36.369924",
     "status": "completed"
    },
    "tags": []
   },
   "outputs": [],
   "source": [
    "df = pd.read_csv('Swiggy_data.csv')"
   ]
  },
  {
   "cell_type": "code",
   "execution_count": 18,
   "id": "44b0075c",
   "metadata": {
    "execution": {
     "iopub.execute_input": "2023-08-07T15:13:48.709142Z",
     "iopub.status.busy": "2023-08-07T15:13:48.708718Z",
     "iopub.status.idle": "2023-08-07T15:13:52.192032Z",
     "shell.execute_reply": "2023-08-07T15:13:52.189901Z"
    },
    "papermill": {
     "duration": 3.506064,
     "end_time": "2023-08-07T15:13:52.195009",
     "exception": false,
     "start_time": "2023-08-07T15:13:48.688945",
     "status": "completed"
    },
    "tags": []
   },
   "outputs": [
    {
     "name": "stdout",
     "output_type": "stream",
     "text": [
      "181404\n",
      "181404\n"
     ]
    }
   ],
   "source": [
    "menus = []\n",
    "for i in range(Data.shape[0]):\n",
    "    try:\n",
    "        menus.append(', '.join([key for key in Data.menu[i].keys()]))\n",
    "    except:\n",
    "        menus.append(np.NaN)\n",
    "print(len(menus))\n",
    "print(df.shape[0])\n",
    "\n",
    "df['menu'] = menus"
   ]
  },
  {
   "cell_type": "code",
   "execution_count": 19,
   "id": "badad8da",
   "metadata": {
    "execution": {
     "iopub.execute_input": "2023-08-07T15:13:52.233875Z",
     "iopub.status.busy": "2023-08-07T15:13:52.233442Z",
     "iopub.status.idle": "2023-08-07T15:13:52.419086Z",
     "shell.execute_reply": "2023-08-07T15:13:52.417708Z"
    },
    "papermill": {
     "duration": 0.208851,
     "end_time": "2023-08-07T15:13:52.422252",
     "exception": false,
     "start_time": "2023-08-07T15:13:52.213401",
     "status": "completed"
    },
    "tags": []
   },
   "outputs": [
    {
     "data": {
      "text/plain": [
       "(160621, 14)"
      ]
     },
     "execution_count": 19,
     "metadata": {},
     "output_type": "execute_result"
    }
   ],
   "source": [
    "#Data Cleaning\n",
    "df = df.rename(columns={'Unnamed: 0':'id', 'name':'Restaurant'})\n",
    "df.drop_duplicates(subset='id', keep='first', inplace = True)\n",
    "df.shape"
   ]
  },
  {
   "cell_type": "code",
   "execution_count": 20,
   "id": "19aacbfa",
   "metadata": {
    "execution": {
     "iopub.execute_input": "2023-08-07T15:13:52.461683Z",
     "iopub.status.busy": "2023-08-07T15:13:52.461157Z",
     "iopub.status.idle": "2023-08-07T15:13:52.514154Z",
     "shell.execute_reply": "2023-08-07T15:13:52.512536Z"
    },
    "papermill": {
     "duration": 0.076637,
     "end_time": "2023-08-07T15:13:52.517206",
     "exception": false,
     "start_time": "2023-08-07T15:13:52.440569",
     "status": "completed"
    },
    "tags": []
   },
   "outputs": [],
   "source": [
    "df = df.loc[:,['id','Restaurant','City','SubRegion','cost','cuisine','rating','rating_count','lic_no','address','menu','link', 'type', 'price']]"
   ]
  },
  {
   "cell_type": "code",
   "execution_count": 21,
   "id": "c48323da",
   "metadata": {
    "execution": {
     "iopub.execute_input": "2023-08-07T15:13:52.557393Z",
     "iopub.status.busy": "2023-08-07T15:13:52.556919Z",
     "iopub.status.idle": "2023-08-07T15:13:52.592221Z",
     "shell.execute_reply": "2023-08-07T15:13:52.590781Z"
    },
    "papermill": {
     "duration": 0.059385,
     "end_time": "2023-08-07T15:13:52.595128",
     "exception": false,
     "start_time": "2023-08-07T15:13:52.535743",
     "status": "completed"
    },
    "tags": []
   },
   "outputs": [
    {
     "data": {
      "text/html": [
       "<div>\n",
       "<style scoped>\n",
       "    .dataframe tbody tr th:only-of-type {\n",
       "        vertical-align: middle;\n",
       "    }\n",
       "\n",
       "    .dataframe tbody tr th {\n",
       "        vertical-align: top;\n",
       "    }\n",
       "\n",
       "    .dataframe thead th {\n",
       "        text-align: right;\n",
       "    }\n",
       "</style>\n",
       "<table border=\"1\" class=\"dataframe\">\n",
       "  <thead>\n",
       "    <tr style=\"text-align: right;\">\n",
       "      <th></th>\n",
       "      <th>id</th>\n",
       "      <th>Restaurant</th>\n",
       "      <th>City</th>\n",
       "      <th>SubRegion</th>\n",
       "      <th>cost</th>\n",
       "      <th>cuisine</th>\n",
       "      <th>rating</th>\n",
       "      <th>rating_count</th>\n",
       "      <th>lic_no</th>\n",
       "      <th>address</th>\n",
       "      <th>menu</th>\n",
       "      <th>link</th>\n",
       "      <th>type</th>\n",
       "      <th>price</th>\n",
       "    </tr>\n",
       "  </thead>\n",
       "  <tbody>\n",
       "    <tr>\n",
       "      <th>0</th>\n",
       "      <td>567335</td>\n",
       "      <td>AB FOODS POINT</td>\n",
       "      <td>Abohar</td>\n",
       "      <td>Abohar</td>\n",
       "      <td>₹ 200</td>\n",
       "      <td>Beverages,Pizzas</td>\n",
       "      <td>--</td>\n",
       "      <td>Too Few Ratings</td>\n",
       "      <td>22122652000138</td>\n",
       "      <td>AB FOODS POINT, NEAR RISHI NARANG DENTAL CLINI...</td>\n",
       "      <td>Burger, Pasta Must Try, Chiness Appetizer, Fri...</td>\n",
       "      <td>https://www.swiggy.com/restaurants/ab-foods-po...</td>\n",
       "      <td>NaN</td>\n",
       "      <td>NaN</td>\n",
       "    </tr>\n",
       "    <tr>\n",
       "      <th>1</th>\n",
       "      <td>531342</td>\n",
       "      <td>Janta Sweet House</td>\n",
       "      <td>Abohar</td>\n",
       "      <td>Abohar</td>\n",
       "      <td>₹ 200</td>\n",
       "      <td>Sweets,Bakery</td>\n",
       "      <td>4.4</td>\n",
       "      <td>50+ ratings</td>\n",
       "      <td>12117201000112</td>\n",
       "      <td>Janta Sweet House, Bazar No.9, Circullar Road,...</td>\n",
       "      <td>Breakfast, Drinks (beverages), Combos, Sweets,...</td>\n",
       "      <td>https://www.swiggy.com/restaurants/janta-sweet...</td>\n",
       "      <td>NaN</td>\n",
       "      <td>NaN</td>\n",
       "    </tr>\n",
       "    <tr>\n",
       "      <th>2</th>\n",
       "      <td>158203</td>\n",
       "      <td>theka coffee desi</td>\n",
       "      <td>Abohar</td>\n",
       "      <td>Abohar</td>\n",
       "      <td>₹ 100</td>\n",
       "      <td>Beverages</td>\n",
       "      <td>3.8</td>\n",
       "      <td>100+ ratings</td>\n",
       "      <td>22121652000190</td>\n",
       "      <td>theka coffee desi, sahtiya sadan road city</td>\n",
       "      <td>Recommended, Family Binge Combos, Hot Coffee, ...</td>\n",
       "      <td>https://www.swiggy.com/restaurants/theka-coffe...</td>\n",
       "      <td>NaN</td>\n",
       "      <td>NaN</td>\n",
       "    </tr>\n",
       "    <tr>\n",
       "      <th>3</th>\n",
       "      <td>187912</td>\n",
       "      <td>Singh Hut</td>\n",
       "      <td>Abohar</td>\n",
       "      <td>Abohar</td>\n",
       "      <td>₹ 250</td>\n",
       "      <td>Fast Food,Indian</td>\n",
       "      <td>3.7</td>\n",
       "      <td>20+ ratings</td>\n",
       "      <td>22119652000167</td>\n",
       "      <td>Singh Hut, CIRCULAR ROAD NEAR NEHRU PARK ABOHAR</td>\n",
       "      <td>Recommended, Soya Chaap, Gravy Item, Chinese H...</td>\n",
       "      <td>https://www.swiggy.com/restaurants/singh-hut-n...</td>\n",
       "      <td>NaN</td>\n",
       "      <td>NaN</td>\n",
       "    </tr>\n",
       "    <tr>\n",
       "      <th>4</th>\n",
       "      <td>543530</td>\n",
       "      <td>GRILL MASTERS</td>\n",
       "      <td>Abohar</td>\n",
       "      <td>Abohar</td>\n",
       "      <td>₹ 250</td>\n",
       "      <td>Italian-American,Fast Food</td>\n",
       "      <td>--</td>\n",
       "      <td>Too Few Ratings</td>\n",
       "      <td>12122201000053</td>\n",
       "      <td>GRILL MASTERS, ADA Heights, Abohar - Hanumanga...</td>\n",
       "      <td>Veg Burgers, Non-Veg Burgers, Veg Wraps, Non V...</td>\n",
       "      <td>https://www.swiggy.com/restaurants/grill-maste...</td>\n",
       "      <td>NaN</td>\n",
       "      <td>NaN</td>\n",
       "    </tr>\n",
       "    <tr>\n",
       "      <th>5</th>\n",
       "      <td>158204</td>\n",
       "      <td>Sam Uncle</td>\n",
       "      <td>Abohar</td>\n",
       "      <td>Abohar</td>\n",
       "      <td>₹ 200</td>\n",
       "      <td>Continental</td>\n",
       "      <td>3.6</td>\n",
       "      <td>20+ ratings</td>\n",
       "      <td>22119652000052</td>\n",
       "      <td>Sam Uncle, hanumangarh road near raja bajaj sh...</td>\n",
       "      <td>Recommended, Burgers, Sandwiches, Pizza's, Swe...</td>\n",
       "      <td>https://www.swiggy.com/restaurants/sam-uncle-c...</td>\n",
       "      <td>NaN</td>\n",
       "      <td>NaN</td>\n",
       "    </tr>\n",
       "    <tr>\n",
       "      <th>6</th>\n",
       "      <td>156588</td>\n",
       "      <td>shere punjab veg</td>\n",
       "      <td>Abohar</td>\n",
       "      <td>Abohar</td>\n",
       "      <td>₹ 150</td>\n",
       "      <td>North Indian</td>\n",
       "      <td>4.0</td>\n",
       "      <td>100+ ratings</td>\n",
       "      <td>22120652000021</td>\n",
       "      <td>shere punjab veg, major surinder chowk near ve...</td>\n",
       "      <td>Recommended, Family Binge Combos, Vegetable, P...</td>\n",
       "      <td>https://www.swiggy.com/restaurants/shere-punja...</td>\n",
       "      <td>NaN</td>\n",
       "      <td>NaN</td>\n",
       "    </tr>\n",
       "    <tr>\n",
       "      <th>7</th>\n",
       "      <td>244866</td>\n",
       "      <td>Shri Balaji Vaishno Dhaba</td>\n",
       "      <td>Abohar</td>\n",
       "      <td>Abohar</td>\n",
       "      <td>₹ 100</td>\n",
       "      <td>North Indian</td>\n",
       "      <td>--</td>\n",
       "      <td>Too Few Ratings</td>\n",
       "      <td>22119652000389</td>\n",
       "      <td>Shri Balaji Vaishno Dhaba, St no 13,6th chowk,...</td>\n",
       "      <td>Main Course, Raita, Indian Breads</td>\n",
       "      <td>https://www.swiggy.com/restaurants/shri-balaji...</td>\n",
       "      <td>NaN</td>\n",
       "      <td>NaN</td>\n",
       "    </tr>\n",
       "    <tr>\n",
       "      <th>8</th>\n",
       "      <td>156602</td>\n",
       "      <td>Hinglaj Kachori Bhandhar</td>\n",
       "      <td>Abohar</td>\n",
       "      <td>Abohar</td>\n",
       "      <td>₹ 100</td>\n",
       "      <td>Snacks,Chaat</td>\n",
       "      <td>4.2</td>\n",
       "      <td>20+ ratings</td>\n",
       "      <td>22119652000042</td>\n",
       "      <td>Hinglaj Kachori Bhandhar, street no 11 circula...</td>\n",
       "      <td>Recommended, Snacks</td>\n",
       "      <td>https://www.swiggy.com/restaurants/hinglaj-kac...</td>\n",
       "      <td>NaN</td>\n",
       "      <td>NaN</td>\n",
       "    </tr>\n",
       "    <tr>\n",
       "      <th>9</th>\n",
       "      <td>158193</td>\n",
       "      <td>yummy hub</td>\n",
       "      <td>Abohar</td>\n",
       "      <td>Abohar</td>\n",
       "      <td>₹ 200</td>\n",
       "      <td>Indian</td>\n",
       "      <td>--</td>\n",
       "      <td>Too Few Ratings</td>\n",
       "      <td>22119652000045</td>\n",
       "      <td>yummy hub, hanumangarh road near dr naveen set...</td>\n",
       "      <td>Indian, Patties</td>\n",
       "      <td>https://www.swiggy.com/restaurants/yummy-hub-c...</td>\n",
       "      <td>NaN</td>\n",
       "      <td>NaN</td>\n",
       "    </tr>\n",
       "  </tbody>\n",
       "</table>\n",
       "</div>"
      ],
      "text/plain": [
       "       id                 Restaurant    City SubRegion   cost  \\\n",
       "0  567335             AB FOODS POINT  Abohar    Abohar  ₹ 200   \n",
       "1  531342          Janta Sweet House  Abohar    Abohar  ₹ 200   \n",
       "2  158203          theka coffee desi  Abohar    Abohar  ₹ 100   \n",
       "3  187912                  Singh Hut  Abohar    Abohar  ₹ 250   \n",
       "4  543530              GRILL MASTERS  Abohar    Abohar  ₹ 250   \n",
       "5  158204                  Sam Uncle  Abohar    Abohar  ₹ 200   \n",
       "6  156588           shere punjab veg  Abohar    Abohar  ₹ 150   \n",
       "7  244866  Shri Balaji Vaishno Dhaba  Abohar    Abohar  ₹ 100   \n",
       "8  156602   Hinglaj Kachori Bhandhar  Abohar    Abohar  ₹ 100   \n",
       "9  158193                  yummy hub  Abohar    Abohar  ₹ 200   \n",
       "\n",
       "                      cuisine rating     rating_count          lic_no  \\\n",
       "0            Beverages,Pizzas     --  Too Few Ratings  22122652000138   \n",
       "1               Sweets,Bakery    4.4      50+ ratings  12117201000112   \n",
       "2                   Beverages    3.8     100+ ratings  22121652000190   \n",
       "3            Fast Food,Indian    3.7      20+ ratings  22119652000167   \n",
       "4  Italian-American,Fast Food     --  Too Few Ratings  12122201000053   \n",
       "5                 Continental    3.6      20+ ratings  22119652000052   \n",
       "6                North Indian    4.0     100+ ratings  22120652000021   \n",
       "7                North Indian     --  Too Few Ratings  22119652000389   \n",
       "8                Snacks,Chaat    4.2      20+ ratings  22119652000042   \n",
       "9                      Indian     --  Too Few Ratings  22119652000045   \n",
       "\n",
       "                                             address  \\\n",
       "0  AB FOODS POINT, NEAR RISHI NARANG DENTAL CLINI...   \n",
       "1  Janta Sweet House, Bazar No.9, Circullar Road,...   \n",
       "2         theka coffee desi, sahtiya sadan road city   \n",
       "3    Singh Hut, CIRCULAR ROAD NEAR NEHRU PARK ABOHAR   \n",
       "4  GRILL MASTERS, ADA Heights, Abohar - Hanumanga...   \n",
       "5  Sam Uncle, hanumangarh road near raja bajaj sh...   \n",
       "6  shere punjab veg, major surinder chowk near ve...   \n",
       "7  Shri Balaji Vaishno Dhaba, St no 13,6th chowk,...   \n",
       "8  Hinglaj Kachori Bhandhar, street no 11 circula...   \n",
       "9  yummy hub, hanumangarh road near dr naveen set...   \n",
       "\n",
       "                                                menu  \\\n",
       "0  Burger, Pasta Must Try, Chiness Appetizer, Fri...   \n",
       "1  Breakfast, Drinks (beverages), Combos, Sweets,...   \n",
       "2  Recommended, Family Binge Combos, Hot Coffee, ...   \n",
       "3  Recommended, Soya Chaap, Gravy Item, Chinese H...   \n",
       "4  Veg Burgers, Non-Veg Burgers, Veg Wraps, Non V...   \n",
       "5  Recommended, Burgers, Sandwiches, Pizza's, Swe...   \n",
       "6  Recommended, Family Binge Combos, Vegetable, P...   \n",
       "7                  Main Course, Raita, Indian Breads   \n",
       "8                                Recommended, Snacks   \n",
       "9                                    Indian, Patties   \n",
       "\n",
       "                                                link type price  \n",
       "0  https://www.swiggy.com/restaurants/ab-foods-po...  NaN   NaN  \n",
       "1  https://www.swiggy.com/restaurants/janta-sweet...  NaN   NaN  \n",
       "2  https://www.swiggy.com/restaurants/theka-coffe...  NaN   NaN  \n",
       "3  https://www.swiggy.com/restaurants/singh-hut-n...  NaN   NaN  \n",
       "4  https://www.swiggy.com/restaurants/grill-maste...  NaN   NaN  \n",
       "5  https://www.swiggy.com/restaurants/sam-uncle-c...  NaN   NaN  \n",
       "6  https://www.swiggy.com/restaurants/shere-punja...  NaN   NaN  \n",
       "7  https://www.swiggy.com/restaurants/shri-balaji...  NaN   NaN  \n",
       "8  https://www.swiggy.com/restaurants/hinglaj-kac...  NaN   NaN  \n",
       "9  https://www.swiggy.com/restaurants/yummy-hub-c...  NaN   NaN  "
      ]
     },
     "execution_count": 21,
     "metadata": {},
     "output_type": "execute_result"
    }
   ],
   "source": [
    "df.head(10)"
   ]
  },
  {
   "cell_type": "code",
   "execution_count": 22,
   "id": "de20fa4b",
   "metadata": {
    "execution": {
     "iopub.execute_input": "2023-08-07T15:13:52.636266Z",
     "iopub.status.busy": "2023-08-07T15:13:52.635760Z",
     "iopub.status.idle": "2023-08-07T15:13:53.412929Z",
     "shell.execute_reply": "2023-08-07T15:13:53.411863Z"
    },
    "papermill": {
     "duration": 0.800596,
     "end_time": "2023-08-07T15:13:53.415399",
     "exception": false,
     "start_time": "2023-08-07T15:13:52.614803",
     "status": "completed"
    },
    "tags": []
   },
   "outputs": [
    {
     "data": {
      "text/html": [
       "<style type=\"text/css\">\n",
       "#T_012aa_row0_col1, #T_012aa_row0_col2, #T_012aa_row1_col1, #T_012aa_row1_col2 {\n",
       "  background-color: #023858;\n",
       "  color: #f1f1f1;\n",
       "}\n",
       "#T_012aa_row2_col1, #T_012aa_row3_col1, #T_012aa_row4_col1, #T_012aa_row6_col1, #T_012aa_row7_col1 {\n",
       "  background-color: #f3edf5;\n",
       "  color: #000000;\n",
       "}\n",
       "#T_012aa_row2_col2, #T_012aa_row3_col2, #T_012aa_row4_col2, #T_012aa_row5_col1, #T_012aa_row5_col2, #T_012aa_row6_col2 {\n",
       "  background-color: #f2ecf5;\n",
       "  color: #000000;\n",
       "}\n",
       "#T_012aa_row7_col2 {\n",
       "  background-color: #f4edf6;\n",
       "  color: #000000;\n",
       "}\n",
       "#T_012aa_row8_col1, #T_012aa_row8_col2, #T_012aa_row9_col1, #T_012aa_row9_col2, #T_012aa_row10_col1, #T_012aa_row10_col2, #T_012aa_row11_col1, #T_012aa_row11_col2, #T_012aa_row12_col1, #T_012aa_row12_col2, #T_012aa_row13_col1, #T_012aa_row13_col2 {\n",
       "  background-color: #fff7fb;\n",
       "  color: #000000;\n",
       "}\n",
       "</style>\n",
       "<table id=\"T_012aa\">\n",
       "  <thead>\n",
       "    <tr>\n",
       "      <th class=\"blank level0\" >&nbsp;</th>\n",
       "      <th id=\"T_012aa_level0_col0\" class=\"col_heading level0 col0\" >index</th>\n",
       "      <th id=\"T_012aa_level0_col1\" class=\"col_heading level0 col1\" >Null</th>\n",
       "      <th id=\"T_012aa_level0_col2\" class=\"col_heading level0 col2\" >% Null</th>\n",
       "    </tr>\n",
       "  </thead>\n",
       "  <tbody>\n",
       "    <tr>\n",
       "      <th id=\"T_012aa_level0_row0\" class=\"row_heading level0 row0\" >12</th>\n",
       "      <td id=\"T_012aa_row0_col0\" class=\"data row0 col0\" >type</td>\n",
       "      <td id=\"T_012aa_row0_col1\" class=\"data row0 col1\" >148591</td>\n",
       "      <td id=\"T_012aa_row0_col2\" class=\"data row0 col2\" >93.000000</td>\n",
       "    </tr>\n",
       "    <tr>\n",
       "      <th id=\"T_012aa_level0_row1\" class=\"row_heading level0 row1\" >13</th>\n",
       "      <td id=\"T_012aa_row1_col0\" class=\"data row1 col0\" >price</td>\n",
       "      <td id=\"T_012aa_row1_col1\" class=\"data row1 col1\" >148590</td>\n",
       "      <td id=\"T_012aa_row1_col2\" class=\"data row1 col2\" >93.000000</td>\n",
       "    </tr>\n",
       "    <tr>\n",
       "      <th id=\"T_012aa_level0_row2\" class=\"row_heading level0 row2\" >4</th>\n",
       "      <td id=\"T_012aa_row2_col0\" class=\"data row2 col0\" >cost</td>\n",
       "      <td id=\"T_012aa_row2_col1\" class=\"data row2 col1\" >12177</td>\n",
       "      <td id=\"T_012aa_row2_col2\" class=\"data row2 col2\" >8.000000</td>\n",
       "    </tr>\n",
       "    <tr>\n",
       "      <th id=\"T_012aa_level0_row3\" class=\"row_heading level0 row3\" >5</th>\n",
       "      <td id=\"T_012aa_row3_col0\" class=\"data row3 col0\" >cuisine</td>\n",
       "      <td id=\"T_012aa_row3_col1\" class=\"data row3 col1\" >12145</td>\n",
       "      <td id=\"T_012aa_row3_col2\" class=\"data row3 col2\" >8.000000</td>\n",
       "    </tr>\n",
       "    <tr>\n",
       "      <th id=\"T_012aa_level0_row4\" class=\"row_heading level0 row4\" >7</th>\n",
       "      <td id=\"T_012aa_row4_col0\" class=\"data row4 col0\" >rating_count</td>\n",
       "      <td id=\"T_012aa_row4_col1\" class=\"data row4 col1\" >12132</td>\n",
       "      <td id=\"T_012aa_row4_col2\" class=\"data row4 col2\" >8.000000</td>\n",
       "    </tr>\n",
       "    <tr>\n",
       "      <th id=\"T_012aa_level0_row5\" class=\"row_heading level0 row5\" >8</th>\n",
       "      <td id=\"T_012aa_row5_col0\" class=\"data row5 col0\" >lic_no</td>\n",
       "      <td id=\"T_012aa_row5_col1\" class=\"data row5 col1\" >12274</td>\n",
       "      <td id=\"T_012aa_row5_col2\" class=\"data row5 col2\" >8.000000</td>\n",
       "    </tr>\n",
       "    <tr>\n",
       "      <th id=\"T_012aa_level0_row6\" class=\"row_heading level0 row6\" >9</th>\n",
       "      <td id=\"T_012aa_row6_col0\" class=\"data row6 col0\" >address</td>\n",
       "      <td id=\"T_012aa_row6_col1\" class=\"data row6 col1\" >12132</td>\n",
       "      <td id=\"T_012aa_row6_col2\" class=\"data row6 col2\" >8.000000</td>\n",
       "    </tr>\n",
       "    <tr>\n",
       "      <th id=\"T_012aa_level0_row7\" class=\"row_heading level0 row7\" >10</th>\n",
       "      <td id=\"T_012aa_row7_col0\" class=\"data row7 col0\" >menu</td>\n",
       "      <td id=\"T_012aa_row7_col1\" class=\"data row7 col1\" >12031</td>\n",
       "      <td id=\"T_012aa_row7_col2\" class=\"data row7 col2\" >7.000000</td>\n",
       "    </tr>\n",
       "    <tr>\n",
       "      <th id=\"T_012aa_level0_row8\" class=\"row_heading level0 row8\" >0</th>\n",
       "      <td id=\"T_012aa_row8_col0\" class=\"data row8 col0\" >id</td>\n",
       "      <td id=\"T_012aa_row8_col1\" class=\"data row8 col1\" >0</td>\n",
       "      <td id=\"T_012aa_row8_col2\" class=\"data row8 col2\" >0.000000</td>\n",
       "    </tr>\n",
       "    <tr>\n",
       "      <th id=\"T_012aa_level0_row9\" class=\"row_heading level0 row9\" >1</th>\n",
       "      <td id=\"T_012aa_row9_col0\" class=\"data row9 col0\" >Restaurant</td>\n",
       "      <td id=\"T_012aa_row9_col1\" class=\"data row9 col1\" >101</td>\n",
       "      <td id=\"T_012aa_row9_col2\" class=\"data row9 col2\" >0.000000</td>\n",
       "    </tr>\n",
       "    <tr>\n",
       "      <th id=\"T_012aa_level0_row10\" class=\"row_heading level0 row10\" >2</th>\n",
       "      <td id=\"T_012aa_row10_col0\" class=\"data row10 col0\" >City</td>\n",
       "      <td id=\"T_012aa_row10_col1\" class=\"data row10 col1\" >0</td>\n",
       "      <td id=\"T_012aa_row10_col2\" class=\"data row10 col2\" >0.000000</td>\n",
       "    </tr>\n",
       "    <tr>\n",
       "      <th id=\"T_012aa_level0_row11\" class=\"row_heading level0 row11\" >3</th>\n",
       "      <td id=\"T_012aa_row11_col0\" class=\"data row11 col0\" >SubRegion</td>\n",
       "      <td id=\"T_012aa_row11_col1\" class=\"data row11 col1\" >0</td>\n",
       "      <td id=\"T_012aa_row11_col2\" class=\"data row11 col2\" >0.000000</td>\n",
       "    </tr>\n",
       "    <tr>\n",
       "      <th id=\"T_012aa_level0_row12\" class=\"row_heading level0 row12\" >6</th>\n",
       "      <td id=\"T_012aa_row12_col0\" class=\"data row12 col0\" >rating</td>\n",
       "      <td id=\"T_012aa_row12_col1\" class=\"data row12 col1\" >101</td>\n",
       "      <td id=\"T_012aa_row12_col2\" class=\"data row12 col2\" >0.000000</td>\n",
       "    </tr>\n",
       "    <tr>\n",
       "      <th id=\"T_012aa_level0_row13\" class=\"row_heading level0 row13\" >11</th>\n",
       "      <td id=\"T_012aa_row13_col0\" class=\"data row13 col0\" >link</td>\n",
       "      <td id=\"T_012aa_row13_col1\" class=\"data row13 col1\" >0</td>\n",
       "      <td id=\"T_012aa_row13_col2\" class=\"data row13 col2\" >0.000000</td>\n",
       "    </tr>\n",
       "  </tbody>\n",
       "</table>\n"
      ],
      "text/plain": [
       "<pandas.io.formats.style.Styler at 0x7d1b941f23b0>"
      ]
     },
     "execution_count": 22,
     "metadata": {},
     "output_type": "execute_result"
    }
   ],
   "source": [
    "Null = df.isnull().sum().reset_index().rename({0:'Null'}, axis = 1)\n",
    "Null['% Null'] = round((Null['Null']/df.shape[0])*100, 0)\n",
    "Null.sort_values(by='% Null', ascending = False).style.background_gradient()"
   ]
  },
  {
   "cell_type": "code",
   "execution_count": 23,
   "id": "1e8fccc4",
   "metadata": {
    "execution": {
     "iopub.execute_input": "2023-08-07T15:13:53.456201Z",
     "iopub.status.busy": "2023-08-07T15:13:53.455699Z",
     "iopub.status.idle": "2023-08-07T15:13:54.154216Z",
     "shell.execute_reply": "2023-08-07T15:13:54.152910Z"
    },
    "papermill": {
     "duration": 0.722839,
     "end_time": "2023-08-07T15:13:54.157443",
     "exception": false,
     "start_time": "2023-08-07T15:13:53.434604",
     "status": "completed"
    },
    "tags": []
   },
   "outputs": [],
   "source": [
    "df = df.drop(['type','price'], axis =1)\n",
    "df.dropna(inplace = True, axis = 0)\n",
    "df.reset_index(inplace = True)\n",
    "df.drop(['index'], axis = 1, inplace = True)"
   ]
  },
  {
   "cell_type": "code",
   "execution_count": 24,
   "id": "0647dc70",
   "metadata": {
    "execution": {
     "iopub.execute_input": "2023-08-07T15:13:54.200636Z",
     "iopub.status.busy": "2023-08-07T15:13:54.200143Z",
     "iopub.status.idle": "2023-08-07T15:13:54.208594Z",
     "shell.execute_reply": "2023-08-07T15:13:54.207049Z"
    },
    "papermill": {
     "duration": 0.033802,
     "end_time": "2023-08-07T15:13:54.211558",
     "exception": false,
     "start_time": "2023-08-07T15:13:54.177756",
     "status": "completed"
    },
    "tags": []
   },
   "outputs": [
    {
     "data": {
      "text/plain": [
       "(148290, 12)"
      ]
     },
     "execution_count": 24,
     "metadata": {},
     "output_type": "execute_result"
    }
   ],
   "source": [
    "df.shape"
   ]
  },
  {
   "cell_type": "code",
   "execution_count": 25,
   "id": "f9ddba6a",
   "metadata": {
    "execution": {
     "iopub.execute_input": "2023-08-07T15:13:54.254403Z",
     "iopub.status.busy": "2023-08-07T15:13:54.253924Z",
     "iopub.status.idle": "2023-08-07T15:13:56.690484Z",
     "shell.execute_reply": "2023-08-07T15:13:56.689516Z"
    },
    "papermill": {
     "duration": 2.460977,
     "end_time": "2023-08-07T15:13:56.692929",
     "exception": false,
     "start_time": "2023-08-07T15:13:54.231952",
     "status": "completed"
    },
    "tags": []
   },
   "outputs": [
    {
     "name": "stderr",
     "output_type": "stream",
     "text": [
      "/tmp/ipykernel_21/4083382393.py:1: FutureWarning:\n",
      "\n",
      "In a future version of pandas all arguments of StringMethods.split except for the argument 'pat' will be keyword-only.\n",
      "\n"
     ]
    },
    {
     "data": {
      "text/plain": [
       "dtype('int64')"
      ]
     },
     "execution_count": 25,
     "metadata": {},
     "output_type": "execute_result"
    }
   ],
   "source": [
    "df.cost = df.cost.str.split(' ',1, expand=True)[1].astype('int')\n",
    "df.cost.dtypes"
   ]
  },
  {
   "cell_type": "code",
   "execution_count": 26,
   "id": "7ecaea2a",
   "metadata": {
    "execution": {
     "iopub.execute_input": "2023-08-07T15:13:56.735185Z",
     "iopub.status.busy": "2023-08-07T15:13:56.734780Z",
     "iopub.status.idle": "2023-08-07T15:13:56.777793Z",
     "shell.execute_reply": "2023-08-07T15:13:56.775289Z"
    },
    "papermill": {
     "duration": 0.067818,
     "end_time": "2023-08-07T15:13:56.780665",
     "exception": false,
     "start_time": "2023-08-07T15:13:56.712847",
     "status": "completed"
    },
    "tags": []
   },
   "outputs": [],
   "source": [
    "df.City.replace(['Noida-1','Noida'],'Noida',inplace=True)"
   ]
  },
  {
   "cell_type": "markdown",
   "id": "adce3ab4",
   "metadata": {
    "papermill": {
     "duration": 0.019707,
     "end_time": "2023-08-07T15:13:56.820299",
     "exception": false,
     "start_time": "2023-08-07T15:13:56.800592",
     "status": "completed"
    },
    "tags": []
   },
   "source": [
    "1-How many cities (including subregions) where Swiggy is having its restaurants listed?"
   ]
  },
  {
   "cell_type": "code",
   "execution_count": 27,
   "id": "9403d579",
   "metadata": {
    "execution": {
     "iopub.execute_input": "2023-08-07T15:13:56.863266Z",
     "iopub.status.busy": "2023-08-07T15:13:56.862751Z",
     "iopub.status.idle": "2023-08-07T15:13:56.885109Z",
     "shell.execute_reply": "2023-08-07T15:13:56.883764Z"
    },
    "papermill": {
     "duration": 0.047055,
     "end_time": "2023-08-07T15:13:56.887964",
     "exception": false,
     "start_time": "2023-08-07T15:13:56.840909",
     "status": "completed"
    },
    "tags": []
   },
   "outputs": [
    {
     "data": {
      "text/plain": [
       "820"
      ]
     },
     "execution_count": 27,
     "metadata": {},
     "output_type": "execute_result"
    }
   ],
   "source": [
    "df['SubRegion'].nunique()"
   ]
  },
  {
   "cell_type": "markdown",
   "id": "f786dd09",
   "metadata": {
    "papermill": {
     "duration": 0.019383,
     "end_time": "2023-08-07T15:13:56.927611",
     "exception": false,
     "start_time": "2023-08-07T15:13:56.908228",
     "status": "completed"
    },
    "tags": []
   },
   "source": [
    "2-How many cities (don't include subregions) where Swiggy is having their restaurants listed?"
   ]
  },
  {
   "cell_type": "code",
   "execution_count": 28,
   "id": "9dc15b89",
   "metadata": {
    "execution": {
     "iopub.execute_input": "2023-08-07T15:13:56.969342Z",
     "iopub.status.busy": "2023-08-07T15:13:56.968933Z",
     "iopub.status.idle": "2023-08-07T15:13:56.990309Z",
     "shell.execute_reply": "2023-08-07T15:13:56.989052Z"
    },
    "papermill": {
     "duration": 0.045597,
     "end_time": "2023-08-07T15:13:56.992718",
     "exception": false,
     "start_time": "2023-08-07T15:13:56.947121",
     "status": "completed"
    },
    "tags": []
   },
   "outputs": [
    {
     "data": {
      "text/plain": [
       "551"
      ]
     },
     "execution_count": 28,
     "metadata": {},
     "output_type": "execute_result"
    }
   ],
   "source": [
    "df['City'].nunique()"
   ]
  },
  {
   "cell_type": "markdown",
   "id": "abe7a163",
   "metadata": {
    "papermill": {
     "duration": 0.020038,
     "end_time": "2023-08-07T15:13:57.039238",
     "exception": false,
     "start_time": "2023-08-07T15:13:57.019200",
     "status": "completed"
    },
    "tags": []
   },
   "source": [
    "3-The Subregion of Delhi with the maximum number of restaurants listed on Swiggy?"
   ]
  },
  {
   "cell_type": "code",
   "execution_count": 29,
   "id": "db25bf4a",
   "metadata": {
    "execution": {
     "iopub.execute_input": "2023-08-07T15:13:57.081207Z",
     "iopub.status.busy": "2023-08-07T15:13:57.080704Z",
     "iopub.status.idle": "2023-08-07T15:13:57.133305Z",
     "shell.execute_reply": "2023-08-07T15:13:57.132132Z"
    },
    "papermill": {
     "duration": 0.076802,
     "end_time": "2023-08-07T15:13:57.135864",
     "exception": false,
     "start_time": "2023-08-07T15:13:57.059062",
     "status": "completed"
    },
    "tags": []
   },
   "outputs": [
    {
     "data": {
      "text/html": [
       "<style type=\"text/css\">\n",
       "#T_68a21_row0_col1 {\n",
       "  background-color: #023858;\n",
       "  color: #f1f1f1;\n",
       "}\n",
       "#T_68a21_row1_col1 {\n",
       "  background-color: #3790c0;\n",
       "  color: #f1f1f1;\n",
       "}\n",
       "#T_68a21_row2_col1 {\n",
       "  background-color: #a8bedc;\n",
       "  color: #000000;\n",
       "}\n",
       "#T_68a21_row3_col1 {\n",
       "  background-color: #f2ecf5;\n",
       "  color: #000000;\n",
       "}\n",
       "#T_68a21_row4_col1 {\n",
       "  background-color: #fff7fb;\n",
       "  color: #000000;\n",
       "}\n",
       "</style>\n",
       "<table id=\"T_68a21\">\n",
       "  <thead>\n",
       "    <tr>\n",
       "      <th class=\"blank level0\" >&nbsp;</th>\n",
       "      <th id=\"T_68a21_level0_col0\" class=\"col_heading level0 col0\" >SubRegion</th>\n",
       "      <th id=\"T_68a21_level0_col1\" class=\"col_heading level0 col1\" >Restaurants counts</th>\n",
       "    </tr>\n",
       "  </thead>\n",
       "  <tbody>\n",
       "    <tr>\n",
       "      <th id=\"T_68a21_level0_row0\" class=\"row_heading level0 row0\" >0</th>\n",
       "      <td id=\"T_68a21_row0_col0\" class=\"data row0 col0\" >Indirapuram</td>\n",
       "      <td id=\"T_68a21_row0_col1\" class=\"data row0 col1\" >1279</td>\n",
       "    </tr>\n",
       "    <tr>\n",
       "      <th id=\"T_68a21_level0_row1\" class=\"row_heading level0 row1\" >1</th>\n",
       "      <td id=\"T_68a21_row1_col0\" class=\"data row1 col0\" >Rohini</td>\n",
       "      <td id=\"T_68a21_row1_col1\" class=\"data row1 col1\" >1135</td>\n",
       "    </tr>\n",
       "    <tr>\n",
       "      <th id=\"T_68a21_level0_row2\" class=\"row_heading level0 row2\" >2</th>\n",
       "      <td id=\"T_68a21_row2_col0\" class=\"data row2 col0\" >Greater Kailash 2</td>\n",
       "      <td id=\"T_68a21_row2_col1\" class=\"data row2 col1\" >1037</td>\n",
       "    </tr>\n",
       "    <tr>\n",
       "      <th id=\"T_68a21_level0_row3\" class=\"row_heading level0 row3\" >3</th>\n",
       "      <td id=\"T_68a21_row3_col0\" class=\"data row3 col0\" >Laxmi Nagar</td>\n",
       "      <td id=\"T_68a21_row3_col1\" class=\"data row3 col1\" >930</td>\n",
       "    </tr>\n",
       "    <tr>\n",
       "      <th id=\"T_68a21_level0_row4\" class=\"row_heading level0 row4\" >4</th>\n",
       "      <td id=\"T_68a21_row4_col0\" class=\"data row4 col0\" >Malviya Nagar</td>\n",
       "      <td id=\"T_68a21_row4_col1\" class=\"data row4 col1\" >896</td>\n",
       "    </tr>\n",
       "  </tbody>\n",
       "</table>\n"
      ],
      "text/plain": [
       "<pandas.io.formats.style.Styler at 0x7d1b82f61b40>"
      ]
     },
     "execution_count": 29,
     "metadata": {},
     "output_type": "execute_result"
    }
   ],
   "source": [
    "d = df[df.City == 'Delhi']\n",
    "d.groupby('SubRegion')['Restaurant'].count().sort_values(ascending=False).reset_index(name='Restaurants counts').head().style.background_gradient()"
   ]
  },
  {
   "cell_type": "markdown",
   "id": "19acf749",
   "metadata": {
    "papermill": {
     "duration": 0.020838,
     "end_time": "2023-08-07T15:13:57.178057",
     "exception": false,
     "start_time": "2023-08-07T15:13:57.157219",
     "status": "completed"
    },
    "tags": []
   },
   "source": [
    "# 4.Name the top 5 Most Expensive Cities in the Datasets."
   ]
  },
  {
   "cell_type": "code",
   "execution_count": 30,
   "id": "f30a55bb",
   "metadata": {
    "execution": {
     "iopub.execute_input": "2023-08-07T15:13:57.222398Z",
     "iopub.status.busy": "2023-08-07T15:13:57.221937Z",
     "iopub.status.idle": "2023-08-07T15:13:59.229079Z",
     "shell.execute_reply": "2023-08-07T15:13:59.227547Z"
    },
    "papermill": {
     "duration": 2.032708,
     "end_time": "2023-08-07T15:13:59.232163",
     "exception": false,
     "start_time": "2023-08-07T15:13:57.199455",
     "status": "completed"
    },
    "tags": []
   },
   "outputs": [
    {
     "name": "stderr",
     "output_type": "stream",
     "text": [
      "/tmp/ipykernel_21/3203605305.py:1: FutureWarning:\n",
      "\n",
      "The default value of numeric_only in DataFrameGroupBy.mean is deprecated. In a future version, numeric_only will default to False. Either specify numeric_only or select only columns which should be valid for the function.\n",
      "\n"
     ]
    },
    {
     "data": {
      "text/html": [
       "        <script type=\"text/javascript\">\n",
       "        window.PlotlyConfig = {MathJaxConfig: 'local'};\n",
       "        if (window.MathJax && window.MathJax.Hub && window.MathJax.Hub.Config) {window.MathJax.Hub.Config({SVG: {font: \"STIX-Web\"}});}\n",
       "        if (typeof require !== 'undefined') {\n",
       "        require.undef(\"plotly\");\n",
       "        requirejs.config({\n",
       "            paths: {\n",
       "                'plotly': ['https://cdn.plot.ly/plotly-2.24.1.min']\n",
       "            }\n",
       "        });\n",
       "        require(['plotly'], function(Plotly) {\n",
       "            window._Plotly = Plotly;\n",
       "        });\n",
       "        }\n",
       "        </script>\n",
       "        "
      ]
     },
     "metadata": {},
     "output_type": "display_data"
    },
    {
     "data": {
      "text/html": [
       "<div>                            <div id=\"3a792906-524d-47fd-9f7c-c2f6b35c093e\" class=\"plotly-graph-div\" style=\"height:525px; width:100%;\"></div>            <script type=\"text/javascript\">                require([\"plotly\"], function(Plotly) {                    window.PLOTLYENV=window.PLOTLYENV || {};                                    if (document.getElementById(\"3a792906-524d-47fd-9f7c-c2f6b35c093e\")) {                    Plotly.newPlot(                        \"3a792906-524d-47fd-9f7c-c2f6b35c093e\",                        [{\"alignmentgroup\":\"True\",\"hovertemplate\":\"Top 5 City=%{x}\\u003cbr\\u003eCost=%{y}\\u003cextra\\u003e\\u003c\\u002fextra\\u003e\",\"legendgroup\":\"\",\"marker\":{\"color\":\"#316395\",\"pattern\":{\"shape\":\"\"}},\"name\":\"\",\"offsetgroup\":\"\",\"orientation\":\"v\",\"showlegend\":false,\"textposition\":\"auto\",\"x\":[\"Hinganghat\",\"North-goa\",\"Gangtok\",\"Mussoorie\",\"South-goa\"],\"xaxis\":\"x\",\"y\":[18962.4375,468.9640449438202,466.6666666666667,460.0,442.85714285714283],\"yaxis\":\"y\",\"type\":\"bar\"}],                        {\"template\":{\"data\":{\"barpolar\":[{\"marker\":{\"line\":{\"color\":\"rgb(17,17,17)\",\"width\":0.5},\"pattern\":{\"fillmode\":\"overlay\",\"size\":10,\"solidity\":0.2}},\"type\":\"barpolar\"}],\"bar\":[{\"error_x\":{\"color\":\"#f2f5fa\"},\"error_y\":{\"color\":\"#f2f5fa\"},\"marker\":{\"line\":{\"color\":\"rgb(17,17,17)\",\"width\":0.5},\"pattern\":{\"fillmode\":\"overlay\",\"size\":10,\"solidity\":0.2}},\"type\":\"bar\"}],\"carpet\":[{\"aaxis\":{\"endlinecolor\":\"#A2B1C6\",\"gridcolor\":\"#506784\",\"linecolor\":\"#506784\",\"minorgridcolor\":\"#506784\",\"startlinecolor\":\"#A2B1C6\"},\"baxis\":{\"endlinecolor\":\"#A2B1C6\",\"gridcolor\":\"#506784\",\"linecolor\":\"#506784\",\"minorgridcolor\":\"#506784\",\"startlinecolor\":\"#A2B1C6\"},\"type\":\"carpet\"}],\"choropleth\":[{\"colorbar\":{\"outlinewidth\":0,\"ticks\":\"\"},\"type\":\"choropleth\"}],\"contourcarpet\":[{\"colorbar\":{\"outlinewidth\":0,\"ticks\":\"\"},\"type\":\"contourcarpet\"}],\"contour\":[{\"colorbar\":{\"outlinewidth\":0,\"ticks\":\"\"},\"colorscale\":[[0.0,\"#0d0887\"],[0.1111111111111111,\"#46039f\"],[0.2222222222222222,\"#7201a8\"],[0.3333333333333333,\"#9c179e\"],[0.4444444444444444,\"#bd3786\"],[0.5555555555555556,\"#d8576b\"],[0.6666666666666666,\"#ed7953\"],[0.7777777777777778,\"#fb9f3a\"],[0.8888888888888888,\"#fdca26\"],[1.0,\"#f0f921\"]],\"type\":\"contour\"}],\"heatmapgl\":[{\"colorbar\":{\"outlinewidth\":0,\"ticks\":\"\"},\"colorscale\":[[0.0,\"#0d0887\"],[0.1111111111111111,\"#46039f\"],[0.2222222222222222,\"#7201a8\"],[0.3333333333333333,\"#9c179e\"],[0.4444444444444444,\"#bd3786\"],[0.5555555555555556,\"#d8576b\"],[0.6666666666666666,\"#ed7953\"],[0.7777777777777778,\"#fb9f3a\"],[0.8888888888888888,\"#fdca26\"],[1.0,\"#f0f921\"]],\"type\":\"heatmapgl\"}],\"heatmap\":[{\"colorbar\":{\"outlinewidth\":0,\"ticks\":\"\"},\"colorscale\":[[0.0,\"#0d0887\"],[0.1111111111111111,\"#46039f\"],[0.2222222222222222,\"#7201a8\"],[0.3333333333333333,\"#9c179e\"],[0.4444444444444444,\"#bd3786\"],[0.5555555555555556,\"#d8576b\"],[0.6666666666666666,\"#ed7953\"],[0.7777777777777778,\"#fb9f3a\"],[0.8888888888888888,\"#fdca26\"],[1.0,\"#f0f921\"]],\"type\":\"heatmap\"}],\"histogram2dcontour\":[{\"colorbar\":{\"outlinewidth\":0,\"ticks\":\"\"},\"colorscale\":[[0.0,\"#0d0887\"],[0.1111111111111111,\"#46039f\"],[0.2222222222222222,\"#7201a8\"],[0.3333333333333333,\"#9c179e\"],[0.4444444444444444,\"#bd3786\"],[0.5555555555555556,\"#d8576b\"],[0.6666666666666666,\"#ed7953\"],[0.7777777777777778,\"#fb9f3a\"],[0.8888888888888888,\"#fdca26\"],[1.0,\"#f0f921\"]],\"type\":\"histogram2dcontour\"}],\"histogram2d\":[{\"colorbar\":{\"outlinewidth\":0,\"ticks\":\"\"},\"colorscale\":[[0.0,\"#0d0887\"],[0.1111111111111111,\"#46039f\"],[0.2222222222222222,\"#7201a8\"],[0.3333333333333333,\"#9c179e\"],[0.4444444444444444,\"#bd3786\"],[0.5555555555555556,\"#d8576b\"],[0.6666666666666666,\"#ed7953\"],[0.7777777777777778,\"#fb9f3a\"],[0.8888888888888888,\"#fdca26\"],[1.0,\"#f0f921\"]],\"type\":\"histogram2d\"}],\"histogram\":[{\"marker\":{\"pattern\":{\"fillmode\":\"overlay\",\"size\":10,\"solidity\":0.2}},\"type\":\"histogram\"}],\"mesh3d\":[{\"colorbar\":{\"outlinewidth\":0,\"ticks\":\"\"},\"type\":\"mesh3d\"}],\"parcoords\":[{\"line\":{\"colorbar\":{\"outlinewidth\":0,\"ticks\":\"\"}},\"type\":\"parcoords\"}],\"pie\":[{\"automargin\":true,\"type\":\"pie\"}],\"scatter3d\":[{\"line\":{\"colorbar\":{\"outlinewidth\":0,\"ticks\":\"\"}},\"marker\":{\"colorbar\":{\"outlinewidth\":0,\"ticks\":\"\"}},\"type\":\"scatter3d\"}],\"scattercarpet\":[{\"marker\":{\"colorbar\":{\"outlinewidth\":0,\"ticks\":\"\"}},\"type\":\"scattercarpet\"}],\"scattergeo\":[{\"marker\":{\"colorbar\":{\"outlinewidth\":0,\"ticks\":\"\"}},\"type\":\"scattergeo\"}],\"scattergl\":[{\"marker\":{\"line\":{\"color\":\"#283442\"}},\"type\":\"scattergl\"}],\"scattermapbox\":[{\"marker\":{\"colorbar\":{\"outlinewidth\":0,\"ticks\":\"\"}},\"type\":\"scattermapbox\"}],\"scatterpolargl\":[{\"marker\":{\"colorbar\":{\"outlinewidth\":0,\"ticks\":\"\"}},\"type\":\"scatterpolargl\"}],\"scatterpolar\":[{\"marker\":{\"colorbar\":{\"outlinewidth\":0,\"ticks\":\"\"}},\"type\":\"scatterpolar\"}],\"scatter\":[{\"marker\":{\"line\":{\"color\":\"#283442\"}},\"type\":\"scatter\"}],\"scatterternary\":[{\"marker\":{\"colorbar\":{\"outlinewidth\":0,\"ticks\":\"\"}},\"type\":\"scatterternary\"}],\"surface\":[{\"colorbar\":{\"outlinewidth\":0,\"ticks\":\"\"},\"colorscale\":[[0.0,\"#0d0887\"],[0.1111111111111111,\"#46039f\"],[0.2222222222222222,\"#7201a8\"],[0.3333333333333333,\"#9c179e\"],[0.4444444444444444,\"#bd3786\"],[0.5555555555555556,\"#d8576b\"],[0.6666666666666666,\"#ed7953\"],[0.7777777777777778,\"#fb9f3a\"],[0.8888888888888888,\"#fdca26\"],[1.0,\"#f0f921\"]],\"type\":\"surface\"}],\"table\":[{\"cells\":{\"fill\":{\"color\":\"#506784\"},\"line\":{\"color\":\"rgb(17,17,17)\"}},\"header\":{\"fill\":{\"color\":\"#2a3f5f\"},\"line\":{\"color\":\"rgb(17,17,17)\"}},\"type\":\"table\"}]},\"layout\":{\"annotationdefaults\":{\"arrowcolor\":\"#f2f5fa\",\"arrowhead\":0,\"arrowwidth\":1},\"autotypenumbers\":\"strict\",\"coloraxis\":{\"colorbar\":{\"outlinewidth\":0,\"ticks\":\"\"}},\"colorscale\":{\"diverging\":[[0,\"#8e0152\"],[0.1,\"#c51b7d\"],[0.2,\"#de77ae\"],[0.3,\"#f1b6da\"],[0.4,\"#fde0ef\"],[0.5,\"#f7f7f7\"],[0.6,\"#e6f5d0\"],[0.7,\"#b8e186\"],[0.8,\"#7fbc41\"],[0.9,\"#4d9221\"],[1,\"#276419\"]],\"sequential\":[[0.0,\"#0d0887\"],[0.1111111111111111,\"#46039f\"],[0.2222222222222222,\"#7201a8\"],[0.3333333333333333,\"#9c179e\"],[0.4444444444444444,\"#bd3786\"],[0.5555555555555556,\"#d8576b\"],[0.6666666666666666,\"#ed7953\"],[0.7777777777777778,\"#fb9f3a\"],[0.8888888888888888,\"#fdca26\"],[1.0,\"#f0f921\"]],\"sequentialminus\":[[0.0,\"#0d0887\"],[0.1111111111111111,\"#46039f\"],[0.2222222222222222,\"#7201a8\"],[0.3333333333333333,\"#9c179e\"],[0.4444444444444444,\"#bd3786\"],[0.5555555555555556,\"#d8576b\"],[0.6666666666666666,\"#ed7953\"],[0.7777777777777778,\"#fb9f3a\"],[0.8888888888888888,\"#fdca26\"],[1.0,\"#f0f921\"]]},\"colorway\":[\"#636efa\",\"#EF553B\",\"#00cc96\",\"#ab63fa\",\"#FFA15A\",\"#19d3f3\",\"#FF6692\",\"#B6E880\",\"#FF97FF\",\"#FECB52\"],\"font\":{\"color\":\"#f2f5fa\"},\"geo\":{\"bgcolor\":\"rgb(17,17,17)\",\"lakecolor\":\"rgb(17,17,17)\",\"landcolor\":\"rgb(17,17,17)\",\"showlakes\":true,\"showland\":true,\"subunitcolor\":\"#506784\"},\"hoverlabel\":{\"align\":\"left\"},\"hovermode\":\"closest\",\"mapbox\":{\"style\":\"dark\"},\"paper_bgcolor\":\"rgb(17,17,17)\",\"plot_bgcolor\":\"rgb(17,17,17)\",\"polar\":{\"angularaxis\":{\"gridcolor\":\"#506784\",\"linecolor\":\"#506784\",\"ticks\":\"\"},\"bgcolor\":\"rgb(17,17,17)\",\"radialaxis\":{\"gridcolor\":\"#506784\",\"linecolor\":\"#506784\",\"ticks\":\"\"}},\"scene\":{\"xaxis\":{\"backgroundcolor\":\"rgb(17,17,17)\",\"gridcolor\":\"#506784\",\"gridwidth\":2,\"linecolor\":\"#506784\",\"showbackground\":true,\"ticks\":\"\",\"zerolinecolor\":\"#C8D4E3\"},\"yaxis\":{\"backgroundcolor\":\"rgb(17,17,17)\",\"gridcolor\":\"#506784\",\"gridwidth\":2,\"linecolor\":\"#506784\",\"showbackground\":true,\"ticks\":\"\",\"zerolinecolor\":\"#C8D4E3\"},\"zaxis\":{\"backgroundcolor\":\"rgb(17,17,17)\",\"gridcolor\":\"#506784\",\"gridwidth\":2,\"linecolor\":\"#506784\",\"showbackground\":true,\"ticks\":\"\",\"zerolinecolor\":\"#C8D4E3\"}},\"shapedefaults\":{\"line\":{\"color\":\"#f2f5fa\"}},\"sliderdefaults\":{\"bgcolor\":\"#C8D4E3\",\"bordercolor\":\"rgb(17,17,17)\",\"borderwidth\":1,\"tickwidth\":0},\"ternary\":{\"aaxis\":{\"gridcolor\":\"#506784\",\"linecolor\":\"#506784\",\"ticks\":\"\"},\"baxis\":{\"gridcolor\":\"#506784\",\"linecolor\":\"#506784\",\"ticks\":\"\"},\"bgcolor\":\"rgb(17,17,17)\",\"caxis\":{\"gridcolor\":\"#506784\",\"linecolor\":\"#506784\",\"ticks\":\"\"}},\"title\":{\"x\":0.05},\"updatemenudefaults\":{\"bgcolor\":\"#506784\",\"borderwidth\":0},\"xaxis\":{\"automargin\":true,\"gridcolor\":\"#283442\",\"linecolor\":\"#506784\",\"ticks\":\"\",\"title\":{\"standoff\":15},\"zerolinecolor\":\"#283442\",\"zerolinewidth\":2},\"yaxis\":{\"automargin\":true,\"gridcolor\":\"#283442\",\"linecolor\":\"#506784\",\"ticks\":\"\",\"title\":{\"standoff\":15},\"zerolinecolor\":\"#283442\",\"zerolinewidth\":2}}},\"xaxis\":{\"anchor\":\"y\",\"domain\":[0.0,1.0],\"title\":{\"text\":\"Top 5 City\"}},\"yaxis\":{\"anchor\":\"x\",\"domain\":[0.0,1.0],\"title\":{\"text\":\"Cost\"}},\"legend\":{\"tracegroupgap\":0},\"title\":{\"text\":\"Most Expensive City\"},\"barmode\":\"relative\"},                        {\"responsive\": true}                    ).then(function(){\n",
       "                            \n",
       "var gd = document.getElementById('3a792906-524d-47fd-9f7c-c2f6b35c093e');\n",
       "var x = new MutationObserver(function (mutations, observer) {{\n",
       "        var display = window.getComputedStyle(gd).display;\n",
       "        if (!display || display === 'none') {{\n",
       "            console.log([gd, 'removed!']);\n",
       "            Plotly.purge(gd);\n",
       "            observer.disconnect();\n",
       "        }}\n",
       "}});\n",
       "\n",
       "// Listen for the removal of the full notebook cells\n",
       "var notebookContainer = gd.closest('#notebook-container');\n",
       "if (notebookContainer) {{\n",
       "    x.observe(notebookContainer, {childList: true});\n",
       "}}\n",
       "\n",
       "// Listen for the clearing of the current output cell\n",
       "var outputEl = gd.closest('.output');\n",
       "if (outputEl) {{\n",
       "    x.observe(outputEl, {childList: true});\n",
       "}}\n",
       "\n",
       "                        })                };                });            </script>        </div>"
      ]
     },
     "metadata": {},
     "output_type": "display_data"
    },
    {
     "data": {
      "text/plain": [
       "'Most Expensive City.html'"
      ]
     },
     "execution_count": 30,
     "metadata": {},
     "output_type": "execute_result"
    }
   ],
   "source": [
    "Expensive = df.groupby('City', as_index=False).agg('mean')[['City','cost']].sort_values(by='cost', ascending = False)\n",
    "\n",
    "fig =px.bar(Expensive.head(),\n",
    "            x= 'City',\n",
    "            y= 'cost',\n",
    "            labels = {'City':'Top 5 City','cost':'Cost'},\n",
    "            template='plotly_dark',\n",
    "            color_discrete_sequence = px.colors.qualitative.G10_r,\n",
    "            title='Most Expensive City')\n",
    "fig.show()\n",
    "\n",
    "pyo.plot(fig, filename = 'Most Expensive City.html', auto_open = True)"
   ]
  },
  {
   "cell_type": "code",
   "execution_count": 31,
   "id": "90c26547",
   "metadata": {
    "execution": {
     "iopub.execute_input": "2023-08-07T15:13:59.283954Z",
     "iopub.status.busy": "2023-08-07T15:13:59.283543Z",
     "iopub.status.idle": "2023-08-07T15:14:03.753478Z",
     "shell.execute_reply": "2023-08-07T15:14:03.751961Z"
    },
    "papermill": {
     "duration": 4.496495,
     "end_time": "2023-08-07T15:14:03.756379",
     "exception": false,
     "start_time": "2023-08-07T15:13:59.259884",
     "status": "completed"
    },
    "tags": []
   },
   "outputs": [
    {
     "name": "stdout",
     "output_type": "stream",
     "text": [
      "148290\n",
      "148290\n"
     ]
    },
    {
     "data": {
      "text/plain": [
       "dtype('float64')"
      ]
     },
     "execution_count": 31,
     "metadata": {},
     "output_type": "execute_result"
    }
   ],
   "source": [
    "Rating = []\n",
    "for i in range(df.shape[0]):\n",
    "    try:\n",
    "        Rating.append(float(df.rating[i]))\n",
    "    except:\n",
    "        #print(Data.rating[i])\n",
    "        if df.rating[i] == '--' or 'NA':\n",
    "            Rating.append(np.NaN)                # Where rating is not givem keep it null\n",
    "        else:\n",
    "            print(df.rating[i])\n",
    "print(len(Rating))\n",
    "print(df.shape[0])\n",
    "df.rating = Rating\n",
    "df.rating.dtypes"
   ]
  },
  {
   "cell_type": "markdown",
   "id": "9639427f",
   "metadata": {
    "execution": {
     "iopub.execute_input": "2023-08-07T08:19:32.149393Z",
     "iopub.status.busy": "2023-08-07T08:19:32.149013Z",
     "iopub.status.idle": "2023-08-07T08:19:32.215812Z",
     "shell.execute_reply": "2023-08-07T08:19:32.214473Z",
     "shell.execute_reply.started": "2023-08-07T08:19:32.149351Z"
    },
    "papermill": {
     "duration": 0.022083,
     "end_time": "2023-08-07T15:14:03.800265",
     "exception": false,
     "start_time": "2023-08-07T15:14:03.778182",
     "status": "completed"
    },
    "tags": []
   },
   "source": [
    "# 5. List out the top 5 Restaurants with Maximum & minimum ratings throughout the dataset."
   ]
  },
  {
   "cell_type": "code",
   "execution_count": 32,
   "id": "2a9c8319",
   "metadata": {
    "execution": {
     "iopub.execute_input": "2023-08-07T15:14:03.851078Z",
     "iopub.status.busy": "2023-08-07T15:14:03.849450Z",
     "iopub.status.idle": "2023-08-07T15:14:03.874138Z",
     "shell.execute_reply": "2023-08-07T15:14:03.872395Z"
    },
    "papermill": {
     "duration": 0.051346,
     "end_time": "2023-08-07T15:14:03.876826",
     "exception": false,
     "start_time": "2023-08-07T15:14:03.825480",
     "status": "completed"
    },
    "tags": []
   },
   "outputs": [
    {
     "name": "stdout",
     "output_type": "stream",
     "text": [
      "The maximum rating Restaurant are:\n"
     ]
    },
    {
     "data": {
      "text/html": [
       "<div>\n",
       "<style scoped>\n",
       "    .dataframe tbody tr th:only-of-type {\n",
       "        vertical-align: middle;\n",
       "    }\n",
       "\n",
       "    .dataframe tbody tr th {\n",
       "        vertical-align: top;\n",
       "    }\n",
       "\n",
       "    .dataframe thead th {\n",
       "        text-align: right;\n",
       "    }\n",
       "</style>\n",
       "<table border=\"1\" class=\"dataframe\">\n",
       "  <thead>\n",
       "    <tr style=\"text-align: right;\">\n",
       "      <th></th>\n",
       "      <th>Restaurant</th>\n",
       "      <th>rating</th>\n",
       "    </tr>\n",
       "  </thead>\n",
       "  <tbody>\n",
       "    <tr>\n",
       "      <th>757</th>\n",
       "      <td>Pablo Premium Kitchen</td>\n",
       "      <td>5.0</td>\n",
       "    </tr>\n",
       "    <tr>\n",
       "      <th>1021</th>\n",
       "      <td>The best diet corner</td>\n",
       "      <td>5.0</td>\n",
       "    </tr>\n",
       "    <tr>\n",
       "      <th>9758</th>\n",
       "      <td>Creams and Bites</td>\n",
       "      <td>5.0</td>\n",
       "    </tr>\n",
       "    <tr>\n",
       "      <th>9808</th>\n",
       "      <td>Bansal's Thali &amp; Combo Meals</td>\n",
       "      <td>5.0</td>\n",
       "    </tr>\n",
       "    <tr>\n",
       "      <th>10239</th>\n",
       "      <td>GOWHEY- HEALTHY DESSERT COMPANY</td>\n",
       "      <td>5.0</td>\n",
       "    </tr>\n",
       "    <tr>\n",
       "      <th>...</th>\n",
       "      <td>...</td>\n",
       "      <td>...</td>\n",
       "    </tr>\n",
       "    <tr>\n",
       "      <th>140515</th>\n",
       "      <td>Chenab Kitchen</td>\n",
       "      <td>5.0</td>\n",
       "    </tr>\n",
       "    <tr>\n",
       "      <th>146038</th>\n",
       "      <td>Cream House</td>\n",
       "      <td>5.0</td>\n",
       "    </tr>\n",
       "    <tr>\n",
       "      <th>147204</th>\n",
       "      <td>HINDUSTANI BURGER</td>\n",
       "      <td>5.0</td>\n",
       "    </tr>\n",
       "    <tr>\n",
       "      <th>147205</th>\n",
       "      <td>KEBAB NATION</td>\n",
       "      <td>5.0</td>\n",
       "    </tr>\n",
       "    <tr>\n",
       "      <th>147211</th>\n",
       "      <td>DELHI GALLI</td>\n",
       "      <td>5.0</td>\n",
       "    </tr>\n",
       "  </tbody>\n",
       "</table>\n",
       "<p>209 rows × 2 columns</p>\n",
       "</div>"
      ],
      "text/plain": [
       "                             Restaurant  rating\n",
       "757               Pablo Premium Kitchen     5.0\n",
       "1021               The best diet corner     5.0\n",
       "9758                   Creams and Bites     5.0\n",
       "9808       Bansal's Thali & Combo Meals     5.0\n",
       "10239   GOWHEY- HEALTHY DESSERT COMPANY     5.0\n",
       "...                                 ...     ...\n",
       "140515                   Chenab Kitchen     5.0\n",
       "146038                      Cream House     5.0\n",
       "147204                HINDUSTANI BURGER     5.0\n",
       "147205                     KEBAB NATION     5.0\n",
       "147211                      DELHI GALLI     5.0\n",
       "\n",
       "[209 rows x 2 columns]"
      ]
     },
     "execution_count": 32,
     "metadata": {},
     "output_type": "execute_result"
    }
   ],
   "source": [
    "print('The maximum rating Restaurant are:')\n",
    "df[df.rating ==df.rating.max()][['Restaurant', 'rating']]"
   ]
  },
  {
   "cell_type": "code",
   "execution_count": 33,
   "id": "0ba0aecd",
   "metadata": {
    "execution": {
     "iopub.execute_input": "2023-08-07T15:14:03.924797Z",
     "iopub.status.busy": "2023-08-07T15:14:03.923987Z",
     "iopub.status.idle": "2023-08-07T15:14:03.977279Z",
     "shell.execute_reply": "2023-08-07T15:14:03.975656Z"
    },
    "papermill": {
     "duration": 0.081559,
     "end_time": "2023-08-07T15:14:03.980493",
     "exception": false,
     "start_time": "2023-08-07T15:14:03.898934",
     "status": "completed"
    },
    "tags": []
   },
   "outputs": [
    {
     "name": "stdout",
     "output_type": "stream",
     "text": [
      "The top 5 restaurant(s) with the minimum rating are:\n",
      "                              Restaurant  rating\n",
      "34240            Ice Cream and Shakes Co     1.0\n",
      "18539                    Persian Delight     1.1\n",
      "36540  SHAWARMA WRAP - ROLL YOUR SECRETS     1.2\n",
      "51869                     THE TARI STORY     1.2\n",
      "68076       The Hyderabadi Biryani House     1.2\n"
     ]
    }
   ],
   "source": [
    "print('The top 5 restaurant(s) with the minimum rating are:')\n",
    "min_rating_restaurants = df.nsmallest(5, 'rating')\n",
    "print(min_rating_restaurants[['Restaurant', 'rating']])"
   ]
  },
  {
   "cell_type": "markdown",
   "id": "525e5f18",
   "metadata": {
    "papermill": {
     "duration": 0.026621,
     "end_time": "2023-08-07T15:14:04.030936",
     "exception": false,
     "start_time": "2023-08-07T15:14:04.004315",
     "status": "completed"
    },
    "tags": []
   },
   "source": [
    "# 6. Name of top 5 cities with the highest number of restaurants listed."
   ]
  },
  {
   "cell_type": "code",
   "execution_count": 34,
   "id": "0155ea30",
   "metadata": {
    "execution": {
     "iopub.execute_input": "2023-08-07T15:14:04.078546Z",
     "iopub.status.busy": "2023-08-07T15:14:04.077796Z",
     "iopub.status.idle": "2023-08-07T15:14:04.107727Z",
     "shell.execute_reply": "2023-08-07T15:14:04.106510Z"
    },
    "papermill": {
     "duration": 0.057709,
     "end_time": "2023-08-07T15:14:04.110322",
     "exception": false,
     "start_time": "2023-08-07T15:14:04.052613",
     "status": "completed"
    },
    "tags": []
   },
   "outputs": [
    {
     "name": "stdout",
     "output_type": "stream",
     "text": [
      "Top 5 cities with the highest number of restaurants listed:\n",
      "Bangalore    15288\n",
      "Delhi        14048\n",
      "Pune         12412\n",
      "Hyderabad     9996\n",
      "Chennai       9940\n",
      "Name: City, dtype: int64\n"
     ]
    }
   ],
   "source": [
    "top_cities = df['City'].value_counts().nlargest(5)\n",
    "print('Top 5 cities with the highest number of restaurants listed:')\n",
    "print(top_cities)"
   ]
  },
  {
   "cell_type": "markdown",
   "id": "0a1ea33c",
   "metadata": {
    "papermill": {
     "duration": 0.02203,
     "end_time": "2023-08-07T15:14:04.154879",
     "exception": false,
     "start_time": "2023-08-07T15:14:04.132849",
     "status": "completed"
    },
    "tags": []
   },
   "source": [
    "# 7. Top 10 cities as per the number of restaurants listed?"
   ]
  },
  {
   "cell_type": "code",
   "execution_count": 35,
   "id": "82d8c70e",
   "metadata": {
    "execution": {
     "iopub.execute_input": "2023-08-07T15:14:04.202640Z",
     "iopub.status.busy": "2023-08-07T15:14:04.201763Z",
     "iopub.status.idle": "2023-08-07T15:14:04.231373Z",
     "shell.execute_reply": "2023-08-07T15:14:04.230202Z"
    },
    "papermill": {
     "duration": 0.058233,
     "end_time": "2023-08-07T15:14:04.235555",
     "exception": false,
     "start_time": "2023-08-07T15:14:04.177322",
     "status": "completed"
    },
    "tags": []
   },
   "outputs": [
    {
     "name": "stdout",
     "output_type": "stream",
     "text": [
      "Top 10 cities with the highest number of restaurants listed:\n",
      "Bangalore     15288\n",
      "Delhi         14048\n",
      "Pune          12412\n",
      "Hyderabad      9996\n",
      "Chennai        9940\n",
      "Kolkata        8271\n",
      "Mumbai         6064\n",
      "Ahmedabad      3538\n",
      "Chandigarh     3311\n",
      "Lucknow        2842\n",
      "Name: City, dtype: int64\n"
     ]
    }
   ],
   "source": [
    "top_cities = df['City'].value_counts().nlargest(10)\n",
    "print('Top 10 cities with the highest number of restaurants listed:')\n",
    "print(top_cities)"
   ]
  },
  {
   "cell_type": "code",
   "execution_count": 36,
   "id": "6eed82ba",
   "metadata": {
    "execution": {
     "iopub.execute_input": "2023-08-07T15:14:04.285454Z",
     "iopub.status.busy": "2023-08-07T15:14:04.284699Z",
     "iopub.status.idle": "2023-08-07T15:14:04.307850Z",
     "shell.execute_reply": "2023-08-07T15:14:04.306540Z"
    },
    "papermill": {
     "duration": 0.050102,
     "end_time": "2023-08-07T15:14:04.310459",
     "exception": false,
     "start_time": "2023-08-07T15:14:04.260357",
     "status": "completed"
    },
    "tags": []
   },
   "outputs": [
    {
     "data": {
      "text/plain": [
       "array(['Too Few Ratings', '50+ ratings', '100+ ratings', '20+ ratings',\n",
       "       '500+ ratings', '1K+ ratings', '5K+ ratings', '10K+ ratings'],\n",
       "      dtype=object)"
      ]
     },
     "execution_count": 36,
     "metadata": {},
     "output_type": "execute_result"
    }
   ],
   "source": [
    "df.rating_count.unique()"
   ]
  },
  {
   "cell_type": "code",
   "execution_count": 37,
   "id": "b1d36c6a",
   "metadata": {
    "execution": {
     "iopub.execute_input": "2023-08-07T15:14:04.358872Z",
     "iopub.status.busy": "2023-08-07T15:14:04.357876Z",
     "iopub.status.idle": "2023-08-07T15:14:04.384088Z",
     "shell.execute_reply": "2023-08-07T15:14:04.382685Z"
    },
    "papermill": {
     "duration": 0.05286,
     "end_time": "2023-08-07T15:14:04.387086",
     "exception": false,
     "start_time": "2023-08-07T15:14:04.334226",
     "status": "completed"
    },
    "tags": []
   },
   "outputs": [
    {
     "data": {
      "text/plain": [
       "{'Too Few Ratings': 0,\n",
       " '50+ ratings': 50,\n",
       " '100+ ratings': 100,\n",
       " '20+ ratings': 20,\n",
       " '500+ ratings': 500,\n",
       " '1K+ ratings': 1000,\n",
       " '5K+ ratings': 5000,\n",
       " '10K+ ratings': 10000}"
      ]
     },
     "execution_count": 37,
     "metadata": {},
     "output_type": "execute_result"
    }
   ],
   "source": [
    "review = {}\n",
    "for rating in df.rating_count.unique():\n",
    "    if rating == 'Too Few Ratings':\n",
    "        review[rating] = 0\n",
    "    else:\n",
    "        try:\n",
    "            review[rating] = int(rating.split('+')[0])\n",
    "        except:\n",
    "            if rating.split('+')[0][-1] == 'K':\n",
    "                review[rating] = int(rating.split('+')[0][:-1])*1000\n",
    "review"
   ]
  },
  {
   "cell_type": "code",
   "execution_count": 38,
   "id": "22c23b80",
   "metadata": {
    "execution": {
     "iopub.execute_input": "2023-08-07T15:14:04.435261Z",
     "iopub.status.busy": "2023-08-07T15:14:04.434450Z",
     "iopub.status.idle": "2023-08-07T15:14:07.282017Z",
     "shell.execute_reply": "2023-08-07T15:14:07.280797Z"
    },
    "papermill": {
     "duration": 2.876101,
     "end_time": "2023-08-07T15:14:07.285307",
     "exception": false,
     "start_time": "2023-08-07T15:14:04.409206",
     "status": "completed"
    },
    "tags": []
   },
   "outputs": [
    {
     "name": "stdout",
     "output_type": "stream",
     "text": [
      "148290\n",
      "148290\n"
     ]
    }
   ],
   "source": [
    "reviews = []\n",
    "for i in range(df.shape[0]):\n",
    "    reviews.append(review[df.rating_count[i]])\n",
    "print(len(reviews))\n",
    "print(df.shape[0])\n",
    "\n",
    "df['Reviews'] = reviews"
   ]
  },
  {
   "cell_type": "markdown",
   "id": "373e6468",
   "metadata": {
    "papermill": {
     "duration": 0.023003,
     "end_time": "2023-08-07T15:14:07.331234",
     "exception": false,
     "start_time": "2023-08-07T15:14:07.308231",
     "status": "completed"
    },
    "tags": []
   },
   "source": [
    "# 8. Name the top 5 Most Popular Restaurants in Pune."
   ]
  },
  {
   "cell_type": "code",
   "execution_count": 39,
   "id": "2294db31",
   "metadata": {
    "execution": {
     "iopub.execute_input": "2023-08-07T15:14:07.379533Z",
     "iopub.status.busy": "2023-08-07T15:14:07.378711Z",
     "iopub.status.idle": "2023-08-07T15:14:07.524167Z",
     "shell.execute_reply": "2023-08-07T15:14:07.522392Z"
    },
    "papermill": {
     "duration": 0.173312,
     "end_time": "2023-08-07T15:14:07.527562",
     "exception": false,
     "start_time": "2023-08-07T15:14:07.354250",
     "status": "completed"
    },
    "tags": []
   },
   "outputs": [
    {
     "data": {
      "text/html": [
       "<div>\n",
       "<style scoped>\n",
       "    .dataframe tbody tr th:only-of-type {\n",
       "        vertical-align: middle;\n",
       "    }\n",
       "\n",
       "    .dataframe tbody tr th {\n",
       "        vertical-align: top;\n",
       "    }\n",
       "\n",
       "    .dataframe thead th {\n",
       "        text-align: right;\n",
       "    }\n",
       "</style>\n",
       "<table border=\"1\" class=\"dataframe\">\n",
       "  <thead>\n",
       "    <tr style=\"text-align: right;\">\n",
       "      <th></th>\n",
       "      <th>Restaurant</th>\n",
       "      <th>SubRegion</th>\n",
       "      <th>City</th>\n",
       "      <th>rating_count</th>\n",
       "      <th>Reviews</th>\n",
       "    </tr>\n",
       "  </thead>\n",
       "  <tbody>\n",
       "    <tr>\n",
       "      <th>122173</th>\n",
       "      <td>Kinara's Maratha Darbar</td>\n",
       "      <td>Kothrud</td>\n",
       "      <td>Pune</td>\n",
       "      <td>1K+ ratings</td>\n",
       "      <td>1000</td>\n",
       "    </tr>\n",
       "    <tr>\n",
       "      <th>132448</th>\n",
       "      <td>Irani Cafe</td>\n",
       "      <td>Magarpatta</td>\n",
       "      <td>Pune</td>\n",
       "      <td>1K+ ratings</td>\n",
       "      <td>1000</td>\n",
       "    </tr>\n",
       "    <tr>\n",
       "      <th>128741</th>\n",
       "      <td>Burger King</td>\n",
       "      <td>PCMC</td>\n",
       "      <td>Pune</td>\n",
       "      <td>1K+ ratings</td>\n",
       "      <td>1000</td>\n",
       "    </tr>\n",
       "    <tr>\n",
       "      <th>129987</th>\n",
       "      <td>McDonald's</td>\n",
       "      <td>Aundh</td>\n",
       "      <td>Pune</td>\n",
       "      <td>1K+ ratings</td>\n",
       "      <td>1000</td>\n",
       "    </tr>\n",
       "    <tr>\n",
       "      <th>132389</th>\n",
       "      <td>Godavari Snacks</td>\n",
       "      <td>Magarpatta</td>\n",
       "      <td>Pune</td>\n",
       "      <td>1K+ ratings</td>\n",
       "      <td>1000</td>\n",
       "    </tr>\n",
       "  </tbody>\n",
       "</table>\n",
       "</div>"
      ],
      "text/plain": [
       "                     Restaurant   SubRegion  City rating_count  Reviews\n",
       "122173  Kinara's Maratha Darbar     Kothrud  Pune  1K+ ratings     1000\n",
       "132448               Irani Cafe  Magarpatta  Pune  1K+ ratings     1000\n",
       "128741              Burger King        PCMC  Pune  1K+ ratings     1000\n",
       "129987               McDonald's       Aundh  Pune  1K+ ratings     1000\n",
       "132389          Godavari Snacks  Magarpatta  Pune  1K+ ratings     1000"
      ]
     },
     "execution_count": 39,
     "metadata": {},
     "output_type": "execute_result"
    }
   ],
   "source": [
    "d = df.sort_values(by = 'Reviews', ascending=False)[['Restaurant', 'SubRegion', 'City', 'rating_count','Reviews']]\n",
    "d[d.City == 'Pune'].head(5)"
   ]
  },
  {
   "cell_type": "markdown",
   "id": "d499ed1f",
   "metadata": {
    "papermill": {
     "duration": 0.023141,
     "end_time": "2023-08-07T15:14:07.573350",
     "exception": false,
     "start_time": "2023-08-07T15:14:07.550209",
     "status": "completed"
    },
    "tags": []
   },
   "source": [
    "# 9-Which SubRegion in Delhi is having the least expensive restaurant in terms of cost?"
   ]
  },
  {
   "cell_type": "code",
   "execution_count": 40,
   "id": "5eb50412",
   "metadata": {
    "execution": {
     "iopub.execute_input": "2023-08-07T15:14:07.622286Z",
     "iopub.status.busy": "2023-08-07T15:14:07.621854Z",
     "iopub.status.idle": "2023-08-07T15:14:07.663361Z",
     "shell.execute_reply": "2023-08-07T15:14:07.661809Z"
    },
    "papermill": {
     "duration": 0.070437,
     "end_time": "2023-08-07T15:14:07.666764",
     "exception": false,
     "start_time": "2023-08-07T15:14:07.596327",
     "status": "completed"
    },
    "tags": []
   },
   "outputs": [
    {
     "name": "stdout",
     "output_type": "stream",
     "text": [
      "The SubRegion in Delhi with the least expensive restaurants in terms of cost is: Sector 18\n"
     ]
    }
   ],
   "source": [
    "delhi_data = df[df['City'] == 'Delhi']\n",
    "\n",
    "# Group by SubRegion and calculate the mean cost for each SubRegion\n",
    "subregion_costs = delhi_data.groupby('SubRegion')['cost'].mean().sort_values()\n",
    "\n",
    "# Get the SubRegion with the lowest mean cost\n",
    "least_expensive_subregion = subregion_costs.idxmin()\n",
    "\n",
    "print(f\"The SubRegion in Delhi with the least expensive restaurants in terms of cost is: {least_expensive_subregion}\")\n"
   ]
  },
  {
   "cell_type": "markdown",
   "id": "d0995ba4",
   "metadata": {
    "papermill": {
     "duration": 0.023477,
     "end_time": "2023-08-07T15:14:07.714172",
     "exception": false,
     "start_time": "2023-08-07T15:14:07.690695",
     "status": "completed"
    },
    "tags": []
   },
   "source": [
    "# 10-Top 5 most popular restaurant chains in India?"
   ]
  },
  {
   "cell_type": "code",
   "execution_count": 41,
   "id": "80196321",
   "metadata": {
    "execution": {
     "iopub.execute_input": "2023-08-07T15:14:07.764533Z",
     "iopub.status.busy": "2023-08-07T15:14:07.764028Z",
     "iopub.status.idle": "2023-08-07T15:14:08.509533Z",
     "shell.execute_reply": "2023-08-07T15:14:08.507880Z"
    },
    "papermill": {
     "duration": 0.773718,
     "end_time": "2023-08-07T15:14:08.512746",
     "exception": false,
     "start_time": "2023-08-07T15:14:07.739028",
     "status": "completed"
    },
    "tags": []
   },
   "outputs": [
    {
     "name": "stdout",
     "output_type": "stream",
     "text": [
      "                                            Restaurant   id\n",
      "28539                                   Domino's Pizza  443\n",
      "73612                                        Pizza Hut  319\n",
      "49040                                              KFC  309\n",
      "53384  Kwality Walls Frozen Dessert and Ice Cream Shop  299\n",
      "11753                                   Baskin Robbins  276\n"
     ]
    }
   ],
   "source": [
    "d = df.groupby('Restaurant', as_index=False).agg('count')[['Restaurant', 'id']].sort_values(by='id', ascending = False)\n",
    "top_5_restaurant_chains = d.head(5)\n",
    "print(top_5_restaurant_chains)"
   ]
  },
  {
   "cell_type": "markdown",
   "id": "ac98fe5d",
   "metadata": {
    "papermill": {
     "duration": 0.023613,
     "end_time": "2023-08-07T15:14:08.559259",
     "exception": false,
     "start_time": "2023-08-07T15:14:08.535646",
     "status": "completed"
    },
    "tags": []
   },
   "source": [
    "# 11-Which restaurant in Pune has the most number of people visiting?"
   ]
  },
  {
   "cell_type": "code",
   "execution_count": 42,
   "id": "1386d816",
   "metadata": {
    "execution": {
     "iopub.execute_input": "2023-08-07T15:14:08.607640Z",
     "iopub.status.busy": "2023-08-07T15:14:08.607195Z",
     "iopub.status.idle": "2023-08-07T15:14:08.728195Z",
     "shell.execute_reply": "2023-08-07T15:14:08.726522Z"
    },
    "papermill": {
     "duration": 0.148808,
     "end_time": "2023-08-07T15:14:08.731348",
     "exception": false,
     "start_time": "2023-08-07T15:14:08.582540",
     "status": "completed"
    },
    "tags": []
   },
   "outputs": [
    {
     "data": {
      "text/html": [
       "<div>\n",
       "<style scoped>\n",
       "    .dataframe tbody tr th:only-of-type {\n",
       "        vertical-align: middle;\n",
       "    }\n",
       "\n",
       "    .dataframe tbody tr th {\n",
       "        vertical-align: top;\n",
       "    }\n",
       "\n",
       "    .dataframe thead th {\n",
       "        text-align: right;\n",
       "    }\n",
       "</style>\n",
       "<table border=\"1\" class=\"dataframe\">\n",
       "  <thead>\n",
       "    <tr style=\"text-align: right;\">\n",
       "      <th></th>\n",
       "      <th>Restaurant</th>\n",
       "      <th>SubRegion</th>\n",
       "      <th>City</th>\n",
       "      <th>rating</th>\n",
       "      <th>rating_count</th>\n",
       "      <th>Reviews</th>\n",
       "    </tr>\n",
       "  </thead>\n",
       "  <tbody>\n",
       "    <tr>\n",
       "      <th>122173</th>\n",
       "      <td>Kinara's Maratha Darbar</td>\n",
       "      <td>Kothrud</td>\n",
       "      <td>Pune</td>\n",
       "      <td>4.1</td>\n",
       "      <td>1K+ ratings</td>\n",
       "      <td>1000</td>\n",
       "    </tr>\n",
       "    <tr>\n",
       "      <th>132448</th>\n",
       "      <td>Irani Cafe</td>\n",
       "      <td>Magarpatta</td>\n",
       "      <td>Pune</td>\n",
       "      <td>4.3</td>\n",
       "      <td>1K+ ratings</td>\n",
       "      <td>1000</td>\n",
       "    </tr>\n",
       "    <tr>\n",
       "      <th>128741</th>\n",
       "      <td>Burger King</td>\n",
       "      <td>PCMC</td>\n",
       "      <td>Pune</td>\n",
       "      <td>4.0</td>\n",
       "      <td>1K+ ratings</td>\n",
       "      <td>1000</td>\n",
       "    </tr>\n",
       "    <tr>\n",
       "      <th>129987</th>\n",
       "      <td>McDonald's</td>\n",
       "      <td>Aundh</td>\n",
       "      <td>Pune</td>\n",
       "      <td>4.2</td>\n",
       "      <td>1K+ ratings</td>\n",
       "      <td>1000</td>\n",
       "    </tr>\n",
       "    <tr>\n",
       "      <th>132389</th>\n",
       "      <td>Godavari Snacks</td>\n",
       "      <td>Magarpatta</td>\n",
       "      <td>Pune</td>\n",
       "      <td>4.2</td>\n",
       "      <td>1K+ ratings</td>\n",
       "      <td>1000</td>\n",
       "    </tr>\n",
       "  </tbody>\n",
       "</table>\n",
       "</div>"
      ],
      "text/plain": [
       "                     Restaurant   SubRegion  City  rating rating_count  \\\n",
       "122173  Kinara's Maratha Darbar     Kothrud  Pune     4.1  1K+ ratings   \n",
       "132448               Irani Cafe  Magarpatta  Pune     4.3  1K+ ratings   \n",
       "128741              Burger King        PCMC  Pune     4.0  1K+ ratings   \n",
       "129987               McDonald's       Aundh  Pune     4.2  1K+ ratings   \n",
       "132389          Godavari Snacks  Magarpatta  Pune     4.2  1K+ ratings   \n",
       "\n",
       "        Reviews  \n",
       "122173     1000  \n",
       "132448     1000  \n",
       "128741     1000  \n",
       "129987     1000  \n",
       "132389     1000  "
      ]
     },
     "execution_count": 42,
     "metadata": {},
     "output_type": "execute_result"
    }
   ],
   "source": [
    "d = df.sort_values(by = 'Reviews', ascending=False)[['Restaurant', 'SubRegion', 'City','rating', 'rating_count','Reviews']]\n",
    "d[d.City == 'Pune'].head(5)"
   ]
  },
  {
   "cell_type": "markdown",
   "id": "86693471",
   "metadata": {
    "papermill": {
     "duration": 0.022601,
     "end_time": "2023-08-07T15:14:08.778472",
     "exception": false,
     "start_time": "2023-08-07T15:14:08.755871",
     "status": "completed"
    },
    "tags": []
   },
   "source": [
    "# 12-Top 10 Restaurants with Maximum Ratings in Banglore"
   ]
  },
  {
   "cell_type": "code",
   "execution_count": 43,
   "id": "03be00a9",
   "metadata": {
    "execution": {
     "iopub.execute_input": "2023-08-07T15:14:08.827345Z",
     "iopub.status.busy": "2023-08-07T15:14:08.826912Z",
     "iopub.status.idle": "2023-08-07T15:14:08.879411Z",
     "shell.execute_reply": "2023-08-07T15:14:08.878127Z"
    },
    "papermill": {
     "duration": 0.081039,
     "end_time": "2023-08-07T15:14:08.882402",
     "exception": false,
     "start_time": "2023-08-07T15:14:08.801363",
     "status": "completed"
    },
    "tags": []
   },
   "outputs": [
    {
     "name": "stdout",
     "output_type": "stream",
     "text": [
      "Top 10 Restaurants with Maximum Ratings in Bangalore:\n",
      "                                        Restaurant  rating\n",
      "9758                              Creams and Bites     5.0\n",
      "9808                  Bansal's Thali & Combo Meals     5.0\n",
      "10239              GOWHEY- HEALTHY DESSERT COMPANY     5.0\n",
      "10687  JUST CREAMERY - Artisanal Healthy Ice Cream     5.0\n",
      "11181                       The Chinese Connection     5.0\n",
      "11894                                HRX by Eatfit     5.0\n",
      "12143                                HUNGER TREATS     5.0\n",
      "12167                                   Snack Ride     5.0\n",
      "12936  JUST CREAMERY - Artisanal Healthy Ice Cream     5.0\n",
      "13058                           Fresh crunch pizza     5.0\n"
     ]
    }
   ],
   "source": [
    "top_restaurants_bangalore = df[(df['City'] == 'Bangalore')].nlargest(10, 'rating')\n",
    "print('Top 10 Restaurants with Maximum Ratings in Bangalore:')\n",
    "print(top_restaurants_bangalore[['Restaurant', 'rating']])"
   ]
  },
  {
   "cell_type": "markdown",
   "id": "bbbc8dfa",
   "metadata": {
    "papermill": {
     "duration": 0.02323,
     "end_time": "2023-08-07T15:14:08.929317",
     "exception": false,
     "start_time": "2023-08-07T15:14:08.906087",
     "status": "completed"
    },
    "tags": []
   },
   "source": [
    "# 13-Top 10 Restaurant in Patna w.r.t rating"
   ]
  },
  {
   "cell_type": "code",
   "execution_count": 44,
   "id": "125f994e",
   "metadata": {
    "execution": {
     "iopub.execute_input": "2023-08-07T15:14:08.980599Z",
     "iopub.status.busy": "2023-08-07T15:14:08.980144Z",
     "iopub.status.idle": "2023-08-07T15:14:09.160182Z",
     "shell.execute_reply": "2023-08-07T15:14:09.159177Z"
    },
    "papermill": {
     "duration": 0.209331,
     "end_time": "2023-08-07T15:14:09.162890",
     "exception": false,
     "start_time": "2023-08-07T15:14:08.953559",
     "status": "completed"
    },
    "tags": []
   },
   "outputs": [
    {
     "data": {
      "text/html": [
       "<div>                            <div id=\"a714ba28-97ff-4e64-8036-9a867975fc59\" class=\"plotly-graph-div\" style=\"height:525px; width:100%;\"></div>            <script type=\"text/javascript\">                require([\"plotly\"], function(Plotly) {                    window.PLOTLYENV=window.PLOTLYENV || {};                                    if (document.getElementById(\"a714ba28-97ff-4e64-8036-9a867975fc59\")) {                    Plotly.newPlot(                        \"a714ba28-97ff-4e64-8036-9a867975fc59\",                        [{\"alignmentgroup\":\"True\",\"hovertemplate\":\"Top 10 Restaurants in Patna=%{x}\\u003cbr\\u003eRating=%{y}\\u003cextra\\u003e\\u003c\\u002fextra\\u003e\",\"legendgroup\":\"\",\"marker\":{\"color\":\"rgb(127, 60, 141)\",\"pattern\":{\"shape\":\"\"}},\"name\":\"\",\"offsetgroup\":\"\",\"orientation\":\"v\",\"showlegend\":false,\"textposition\":\"auto\",\"x\":[\"Kwality Walls Frozen Dessert and Ice Cream Shop\",\"Slurpy Shakes\",\"Cupcake Bliss Cake & Desserts\",\"Burger It Up\",\"Kouzina Kafe The Food Court\",\"GARAGE KITCHEN\",\"The Dessert Zone\",\"Pure Veg Meals by Lunchbox\",\"KINGDOM OF MOMOS\",\"Indiana Burgers\"],\"xaxis\":\"x\",\"y\":[4.6,4.6,4.5,4.5,4.5,4.5,4.4,4.4,4.4,4.4],\"yaxis\":\"y\",\"type\":\"bar\"}],                        {\"template\":{\"data\":{\"barpolar\":[{\"marker\":{\"line\":{\"color\":\"rgb(17,17,17)\",\"width\":0.5},\"pattern\":{\"fillmode\":\"overlay\",\"size\":10,\"solidity\":0.2}},\"type\":\"barpolar\"}],\"bar\":[{\"error_x\":{\"color\":\"#f2f5fa\"},\"error_y\":{\"color\":\"#f2f5fa\"},\"marker\":{\"line\":{\"color\":\"rgb(17,17,17)\",\"width\":0.5},\"pattern\":{\"fillmode\":\"overlay\",\"size\":10,\"solidity\":0.2}},\"type\":\"bar\"}],\"carpet\":[{\"aaxis\":{\"endlinecolor\":\"#A2B1C6\",\"gridcolor\":\"#506784\",\"linecolor\":\"#506784\",\"minorgridcolor\":\"#506784\",\"startlinecolor\":\"#A2B1C6\"},\"baxis\":{\"endlinecolor\":\"#A2B1C6\",\"gridcolor\":\"#506784\",\"linecolor\":\"#506784\",\"minorgridcolor\":\"#506784\",\"startlinecolor\":\"#A2B1C6\"},\"type\":\"carpet\"}],\"choropleth\":[{\"colorbar\":{\"outlinewidth\":0,\"ticks\":\"\"},\"type\":\"choropleth\"}],\"contourcarpet\":[{\"colorbar\":{\"outlinewidth\":0,\"ticks\":\"\"},\"type\":\"contourcarpet\"}],\"contour\":[{\"colorbar\":{\"outlinewidth\":0,\"ticks\":\"\"},\"colorscale\":[[0.0,\"#0d0887\"],[0.1111111111111111,\"#46039f\"],[0.2222222222222222,\"#7201a8\"],[0.3333333333333333,\"#9c179e\"],[0.4444444444444444,\"#bd3786\"],[0.5555555555555556,\"#d8576b\"],[0.6666666666666666,\"#ed7953\"],[0.7777777777777778,\"#fb9f3a\"],[0.8888888888888888,\"#fdca26\"],[1.0,\"#f0f921\"]],\"type\":\"contour\"}],\"heatmapgl\":[{\"colorbar\":{\"outlinewidth\":0,\"ticks\":\"\"},\"colorscale\":[[0.0,\"#0d0887\"],[0.1111111111111111,\"#46039f\"],[0.2222222222222222,\"#7201a8\"],[0.3333333333333333,\"#9c179e\"],[0.4444444444444444,\"#bd3786\"],[0.5555555555555556,\"#d8576b\"],[0.6666666666666666,\"#ed7953\"],[0.7777777777777778,\"#fb9f3a\"],[0.8888888888888888,\"#fdca26\"],[1.0,\"#f0f921\"]],\"type\":\"heatmapgl\"}],\"heatmap\":[{\"colorbar\":{\"outlinewidth\":0,\"ticks\":\"\"},\"colorscale\":[[0.0,\"#0d0887\"],[0.1111111111111111,\"#46039f\"],[0.2222222222222222,\"#7201a8\"],[0.3333333333333333,\"#9c179e\"],[0.4444444444444444,\"#bd3786\"],[0.5555555555555556,\"#d8576b\"],[0.6666666666666666,\"#ed7953\"],[0.7777777777777778,\"#fb9f3a\"],[0.8888888888888888,\"#fdca26\"],[1.0,\"#f0f921\"]],\"type\":\"heatmap\"}],\"histogram2dcontour\":[{\"colorbar\":{\"outlinewidth\":0,\"ticks\":\"\"},\"colorscale\":[[0.0,\"#0d0887\"],[0.1111111111111111,\"#46039f\"],[0.2222222222222222,\"#7201a8\"],[0.3333333333333333,\"#9c179e\"],[0.4444444444444444,\"#bd3786\"],[0.5555555555555556,\"#d8576b\"],[0.6666666666666666,\"#ed7953\"],[0.7777777777777778,\"#fb9f3a\"],[0.8888888888888888,\"#fdca26\"],[1.0,\"#f0f921\"]],\"type\":\"histogram2dcontour\"}],\"histogram2d\":[{\"colorbar\":{\"outlinewidth\":0,\"ticks\":\"\"},\"colorscale\":[[0.0,\"#0d0887\"],[0.1111111111111111,\"#46039f\"],[0.2222222222222222,\"#7201a8\"],[0.3333333333333333,\"#9c179e\"],[0.4444444444444444,\"#bd3786\"],[0.5555555555555556,\"#d8576b\"],[0.6666666666666666,\"#ed7953\"],[0.7777777777777778,\"#fb9f3a\"],[0.8888888888888888,\"#fdca26\"],[1.0,\"#f0f921\"]],\"type\":\"histogram2d\"}],\"histogram\":[{\"marker\":{\"pattern\":{\"fillmode\":\"overlay\",\"size\":10,\"solidity\":0.2}},\"type\":\"histogram\"}],\"mesh3d\":[{\"colorbar\":{\"outlinewidth\":0,\"ticks\":\"\"},\"type\":\"mesh3d\"}],\"parcoords\":[{\"line\":{\"colorbar\":{\"outlinewidth\":0,\"ticks\":\"\"}},\"type\":\"parcoords\"}],\"pie\":[{\"automargin\":true,\"type\":\"pie\"}],\"scatter3d\":[{\"line\":{\"colorbar\":{\"outlinewidth\":0,\"ticks\":\"\"}},\"marker\":{\"colorbar\":{\"outlinewidth\":0,\"ticks\":\"\"}},\"type\":\"scatter3d\"}],\"scattercarpet\":[{\"marker\":{\"colorbar\":{\"outlinewidth\":0,\"ticks\":\"\"}},\"type\":\"scattercarpet\"}],\"scattergeo\":[{\"marker\":{\"colorbar\":{\"outlinewidth\":0,\"ticks\":\"\"}},\"type\":\"scattergeo\"}],\"scattergl\":[{\"marker\":{\"line\":{\"color\":\"#283442\"}},\"type\":\"scattergl\"}],\"scattermapbox\":[{\"marker\":{\"colorbar\":{\"outlinewidth\":0,\"ticks\":\"\"}},\"type\":\"scattermapbox\"}],\"scatterpolargl\":[{\"marker\":{\"colorbar\":{\"outlinewidth\":0,\"ticks\":\"\"}},\"type\":\"scatterpolargl\"}],\"scatterpolar\":[{\"marker\":{\"colorbar\":{\"outlinewidth\":0,\"ticks\":\"\"}},\"type\":\"scatterpolar\"}],\"scatter\":[{\"marker\":{\"line\":{\"color\":\"#283442\"}},\"type\":\"scatter\"}],\"scatterternary\":[{\"marker\":{\"colorbar\":{\"outlinewidth\":0,\"ticks\":\"\"}},\"type\":\"scatterternary\"}],\"surface\":[{\"colorbar\":{\"outlinewidth\":0,\"ticks\":\"\"},\"colorscale\":[[0.0,\"#0d0887\"],[0.1111111111111111,\"#46039f\"],[0.2222222222222222,\"#7201a8\"],[0.3333333333333333,\"#9c179e\"],[0.4444444444444444,\"#bd3786\"],[0.5555555555555556,\"#d8576b\"],[0.6666666666666666,\"#ed7953\"],[0.7777777777777778,\"#fb9f3a\"],[0.8888888888888888,\"#fdca26\"],[1.0,\"#f0f921\"]],\"type\":\"surface\"}],\"table\":[{\"cells\":{\"fill\":{\"color\":\"#506784\"},\"line\":{\"color\":\"rgb(17,17,17)\"}},\"header\":{\"fill\":{\"color\":\"#2a3f5f\"},\"line\":{\"color\":\"rgb(17,17,17)\"}},\"type\":\"table\"}]},\"layout\":{\"annotationdefaults\":{\"arrowcolor\":\"#f2f5fa\",\"arrowhead\":0,\"arrowwidth\":1},\"autotypenumbers\":\"strict\",\"coloraxis\":{\"colorbar\":{\"outlinewidth\":0,\"ticks\":\"\"}},\"colorscale\":{\"diverging\":[[0,\"#8e0152\"],[0.1,\"#c51b7d\"],[0.2,\"#de77ae\"],[0.3,\"#f1b6da\"],[0.4,\"#fde0ef\"],[0.5,\"#f7f7f7\"],[0.6,\"#e6f5d0\"],[0.7,\"#b8e186\"],[0.8,\"#7fbc41\"],[0.9,\"#4d9221\"],[1,\"#276419\"]],\"sequential\":[[0.0,\"#0d0887\"],[0.1111111111111111,\"#46039f\"],[0.2222222222222222,\"#7201a8\"],[0.3333333333333333,\"#9c179e\"],[0.4444444444444444,\"#bd3786\"],[0.5555555555555556,\"#d8576b\"],[0.6666666666666666,\"#ed7953\"],[0.7777777777777778,\"#fb9f3a\"],[0.8888888888888888,\"#fdca26\"],[1.0,\"#f0f921\"]],\"sequentialminus\":[[0.0,\"#0d0887\"],[0.1111111111111111,\"#46039f\"],[0.2222222222222222,\"#7201a8\"],[0.3333333333333333,\"#9c179e\"],[0.4444444444444444,\"#bd3786\"],[0.5555555555555556,\"#d8576b\"],[0.6666666666666666,\"#ed7953\"],[0.7777777777777778,\"#fb9f3a\"],[0.8888888888888888,\"#fdca26\"],[1.0,\"#f0f921\"]]},\"colorway\":[\"#636efa\",\"#EF553B\",\"#00cc96\",\"#ab63fa\",\"#FFA15A\",\"#19d3f3\",\"#FF6692\",\"#B6E880\",\"#FF97FF\",\"#FECB52\"],\"font\":{\"color\":\"#f2f5fa\"},\"geo\":{\"bgcolor\":\"rgb(17,17,17)\",\"lakecolor\":\"rgb(17,17,17)\",\"landcolor\":\"rgb(17,17,17)\",\"showlakes\":true,\"showland\":true,\"subunitcolor\":\"#506784\"},\"hoverlabel\":{\"align\":\"left\"},\"hovermode\":\"closest\",\"mapbox\":{\"style\":\"dark\"},\"paper_bgcolor\":\"rgb(17,17,17)\",\"plot_bgcolor\":\"rgb(17,17,17)\",\"polar\":{\"angularaxis\":{\"gridcolor\":\"#506784\",\"linecolor\":\"#506784\",\"ticks\":\"\"},\"bgcolor\":\"rgb(17,17,17)\",\"radialaxis\":{\"gridcolor\":\"#506784\",\"linecolor\":\"#506784\",\"ticks\":\"\"}},\"scene\":{\"xaxis\":{\"backgroundcolor\":\"rgb(17,17,17)\",\"gridcolor\":\"#506784\",\"gridwidth\":2,\"linecolor\":\"#506784\",\"showbackground\":true,\"ticks\":\"\",\"zerolinecolor\":\"#C8D4E3\"},\"yaxis\":{\"backgroundcolor\":\"rgb(17,17,17)\",\"gridcolor\":\"#506784\",\"gridwidth\":2,\"linecolor\":\"#506784\",\"showbackground\":true,\"ticks\":\"\",\"zerolinecolor\":\"#C8D4E3\"},\"zaxis\":{\"backgroundcolor\":\"rgb(17,17,17)\",\"gridcolor\":\"#506784\",\"gridwidth\":2,\"linecolor\":\"#506784\",\"showbackground\":true,\"ticks\":\"\",\"zerolinecolor\":\"#C8D4E3\"}},\"shapedefaults\":{\"line\":{\"color\":\"#f2f5fa\"}},\"sliderdefaults\":{\"bgcolor\":\"#C8D4E3\",\"bordercolor\":\"rgb(17,17,17)\",\"borderwidth\":1,\"tickwidth\":0},\"ternary\":{\"aaxis\":{\"gridcolor\":\"#506784\",\"linecolor\":\"#506784\",\"ticks\":\"\"},\"baxis\":{\"gridcolor\":\"#506784\",\"linecolor\":\"#506784\",\"ticks\":\"\"},\"bgcolor\":\"rgb(17,17,17)\",\"caxis\":{\"gridcolor\":\"#506784\",\"linecolor\":\"#506784\",\"ticks\":\"\"}},\"title\":{\"x\":0.05},\"updatemenudefaults\":{\"bgcolor\":\"#506784\",\"borderwidth\":0},\"xaxis\":{\"automargin\":true,\"gridcolor\":\"#283442\",\"linecolor\":\"#506784\",\"ticks\":\"\",\"title\":{\"standoff\":15},\"zerolinecolor\":\"#283442\",\"zerolinewidth\":2},\"yaxis\":{\"automargin\":true,\"gridcolor\":\"#283442\",\"linecolor\":\"#506784\",\"ticks\":\"\",\"title\":{\"standoff\":15},\"zerolinecolor\":\"#283442\",\"zerolinewidth\":2}}},\"xaxis\":{\"anchor\":\"y\",\"domain\":[0.0,1.0],\"title\":{\"text\":\"Top 10 Restaurants in Patna\"}},\"yaxis\":{\"anchor\":\"x\",\"domain\":[0.0,1.0],\"title\":{\"text\":\"Rating\"}},\"legend\":{\"tracegroupgap\":0},\"title\":{\"text\":\"Top 10 Restaurant in Patna w.r.t rating\"},\"barmode\":\"relative\"},                        {\"responsive\": true}                    ).then(function(){\n",
       "                            \n",
       "var gd = document.getElementById('a714ba28-97ff-4e64-8036-9a867975fc59');\n",
       "var x = new MutationObserver(function (mutations, observer) {{\n",
       "        var display = window.getComputedStyle(gd).display;\n",
       "        if (!display || display === 'none') {{\n",
       "            console.log([gd, 'removed!']);\n",
       "            Plotly.purge(gd);\n",
       "            observer.disconnect();\n",
       "        }}\n",
       "}});\n",
       "\n",
       "// Listen for the removal of the full notebook cells\n",
       "var notebookContainer = gd.closest('#notebook-container');\n",
       "if (notebookContainer) {{\n",
       "    x.observe(notebookContainer, {childList: true});\n",
       "}}\n",
       "\n",
       "// Listen for the clearing of the current output cell\n",
       "var outputEl = gd.closest('.output');\n",
       "if (outputEl) {{\n",
       "    x.observe(outputEl, {childList: true});\n",
       "}}\n",
       "\n",
       "                        })                };                });            </script>        </div>"
      ]
     },
     "metadata": {},
     "output_type": "display_data"
    },
    {
     "data": {
      "text/plain": [
       "'Top 10 Restaurant in Patna w.r.t rating.html'"
      ]
     },
     "execution_count": 44,
     "metadata": {},
     "output_type": "execute_result"
    }
   ],
   "source": [
    "Patna= df[df['City'] == 'Patna']\n",
    "Patna[Patna['rating'] == Patna['rating'].max()][['Restaurant','City','rating']]\n",
    "Top = df.City.value_counts(ascending=False).reset_index().rename({'index':'City', 'City':'Counts'}, axis=1).head(10)\n",
    "\n",
    "fig =px.bar(Patna.sort_values(by='rating',ascending = False).head(10),\n",
    "            x= 'Restaurant',\n",
    "            y= 'rating',\n",
    "            labels = {'Restaurant':'Top 10 Restaurants in Patna','rating':'Rating'},\n",
    "            template='plotly_dark',\n",
    "            color_discrete_sequence = px.colors.qualitative.Bold,\n",
    "            title='Top 10 Restaurant in Patna w.r.t rating')\n",
    "\n",
    "fig.show()\n",
    "\n",
    "pyo.plot(fig, filename = 'Top 10 Restaurant in Patna w.r.t rating.html', auto_open = True)"
   ]
  },
  {
   "cell_type": "code",
   "execution_count": null,
   "id": "f9bd1029",
   "metadata": {
    "papermill": {
     "duration": 0.024829,
     "end_time": "2023-08-07T15:14:09.211542",
     "exception": false,
     "start_time": "2023-08-07T15:14:09.186713",
     "status": "completed"
    },
    "tags": []
   },
   "outputs": [],
   "source": []
  }
 ],
 "metadata": {
  "kernelspec": {
   "display_name": "Python 3",
   "language": "python",
   "name": "python3"
  },
  "language_info": {
   "codemirror_mode": {
    "name": "ipython",
    "version": 3
   },
   "file_extension": ".py",
   "mimetype": "text/x-python",
   "name": "python",
   "nbconvert_exporter": "python",
   "pygments_lexer": "ipython3",
   "version": "3.10.12"
  },
  "papermill": {
   "default_parameters": {},
   "duration": 236.310909,
   "end_time": "2023-08-07T15:14:12.363665",
   "environment_variables": {},
   "exception": null,
   "input_path": "__notebook__.ipynb",
   "output_path": "__notebook__.ipynb",
   "parameters": {},
   "start_time": "2023-08-07T15:10:16.052756",
   "version": "2.4.0"
  }
 },
 "nbformat": 4,
 "nbformat_minor": 5
}
